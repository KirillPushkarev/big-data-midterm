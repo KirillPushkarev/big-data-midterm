{
 "cells": [
  {
   "cell_type": "code",
   "execution_count": 562,
   "id": "0b7b8d79",
   "metadata": {},
   "outputs": [],
   "source": [
    "import pandas as pd\n",
    "from matplotlib import pyplot as plt\n",
    "import numpy as np\n",
    "\n",
    "preview_count = 10\n",
    "suspicious_flight_threshold_1 = 10\n",
    "suspicious_flight_threshold_2 = 20\n",
    "\n",
    "hypotheses_weights = [\n",
    "    1,\n",
    "    1,\n",
    "    0.5,\n",
    "    0.3,\n",
    "    0.5,\n",
    "    0.6,\n",
    "]\n",
    "suspicious_passengers = {}\n",
    "suspicious_score_threshold = 1"
   ]
  },
  {
   "cell_type": "markdown",
   "source": [
    "## 0. Load data"
   ],
   "metadata": {
    "collapsed": false,
    "pycharm": {
     "name": "#%% md\n"
    }
   }
  },
  {
   "cell_type": "code",
   "execution_count": 563,
   "id": "1b77d710",
   "metadata": {},
   "outputs": [
    {
     "data": {
      "text/plain": "  ArrivalCity BaggageState BookingCode  CodeShare DepartureDate DepartureTime  \\\n0      Moscow      Transit      WMXPVY      False    2017-01-01         09:15   \n1         NaN          NaN      ULCPQH      False    2017-01-01         09:15   \n2         NaN          NaN      YVICRN      False    2017-01-01         09:15   \n3      Moscow   Registered         NaN      False    2017-01-01         09:15   \n4         NaN          NaN      DBEVCU      False    2017-01-01         09:15   \n5         NaN          NaN      RRIOPR      False    2017-01-01         09:15   \n6      Moscow      Transit      QVSCOZ      False    2017-01-01         09:15   \n7      Moscow      Transit         NaN      False    2017-01-01         09:15   \n8      Moscow      Transit      HSMLZA      False    2017-01-01         09:15   \n9      Moscow         None      JCPZFV      False    2017-01-01         09:15   \n\n  FlightNumber PassengerBirthDate PassengerDocument PassengerFirstName  ...  \\\n0       SU1001         1999-12-13       5140 683757              ALISA  ...   \n1       SU1001                NaT       7477 017451           KRISTINA  ...   \n2       SU1001                NaT       6840 635650          ALEKSANDR  ...   \n3       SU1001         1974-07-09       1205 586135               MARK  ...   \n4       SU1001         1990-05-04       6601 454145           VASILISA  ...   \n5       SU1001         1993-08-19       8514 626986              ROMAN  ...   \n6       SU1001         1977-04-27       9115 247669          VALENTINA  ...   \n7       SU1001         1975-06-18       7343 212984            GEORGII  ...   \n8       SU1001         1971-10-04       1781 401081              AIDAR  ...   \n9       SU1001         1989-10-23       4652 149463              BORIS  ...   \n\n  BaggageCount DepartureAirport    Fare  Meal  \\\n0          1PC              KGD  YFLXYW  RVML   \n1          NaN              KGD  YFLXEY   NaN   \n2          1PC              KGD  YSTNUB   NaN   \n3          NaN              NaN     NaN   NaN   \n4          1PC              KGD  YGRPPY  VGML   \n5          NaN              KGD  YGRPCF   NaN   \n6          NaN              NaN     NaN   NaN   \n7          NaN              NaN     NaN   NaN   \n8          NaN              NaN     NaN   NaN   \n9          NaN              KGD  JGRPMO   NaN   \n\n                   PassengerAdditionalInfo PassengerClass ArrivalCountry  \\\n0                                        F              Y            NaN   \n1                                      NaN              Y            NaN   \n2  4                       FF#FB 483772175              Y            NaN   \n3                                      NaN            NaN            NaN   \n4  0                       FF#SU 806242829              Y            NaN   \n5                      Assistance Required              Y            NaN   \n6                                      NaN            NaN            NaN   \n7                                      NaN            NaN            NaN   \n8                                      NaN            NaN            NaN   \n9  T                       FF#DT 671389892              J            NaN   \n\n  DepartureCity DepartureCountry PassengerNickName  \n0           NaN              NaN               NaN  \n1           NaN              NaN               NaN  \n2           NaN              NaN               NaN  \n3           NaN              NaN               NaN  \n4           NaN              NaN               NaN  \n5           NaN              NaN               NaN  \n6           NaN              NaN               NaN  \n7           NaN              NaN               NaN  \n8           NaN              NaN               NaN  \n9           NaN              NaN               NaN  \n\n[10 rows x 28 columns]",
      "text/html": "<div>\n<style scoped>\n    .dataframe tbody tr th:only-of-type {\n        vertical-align: middle;\n    }\n\n    .dataframe tbody tr th {\n        vertical-align: top;\n    }\n\n    .dataframe thead th {\n        text-align: right;\n    }\n</style>\n<table border=\"1\" class=\"dataframe\">\n  <thead>\n    <tr style=\"text-align: right;\">\n      <th></th>\n      <th>ArrivalCity</th>\n      <th>BaggageState</th>\n      <th>BookingCode</th>\n      <th>CodeShare</th>\n      <th>DepartureDate</th>\n      <th>DepartureTime</th>\n      <th>FlightNumber</th>\n      <th>PassengerBirthDate</th>\n      <th>PassengerDocument</th>\n      <th>PassengerFirstName</th>\n      <th>...</th>\n      <th>BaggageCount</th>\n      <th>DepartureAirport</th>\n      <th>Fare</th>\n      <th>Meal</th>\n      <th>PassengerAdditionalInfo</th>\n      <th>PassengerClass</th>\n      <th>ArrivalCountry</th>\n      <th>DepartureCity</th>\n      <th>DepartureCountry</th>\n      <th>PassengerNickName</th>\n    </tr>\n  </thead>\n  <tbody>\n    <tr>\n      <th>0</th>\n      <td>Moscow</td>\n      <td>Transit</td>\n      <td>WMXPVY</td>\n      <td>False</td>\n      <td>2017-01-01</td>\n      <td>09:15</td>\n      <td>SU1001</td>\n      <td>1999-12-13</td>\n      <td>5140 683757</td>\n      <td>ALISA</td>\n      <td>...</td>\n      <td>1PC</td>\n      <td>KGD</td>\n      <td>YFLXYW</td>\n      <td>RVML</td>\n      <td>F</td>\n      <td>Y</td>\n      <td>NaN</td>\n      <td>NaN</td>\n      <td>NaN</td>\n      <td>NaN</td>\n    </tr>\n    <tr>\n      <th>1</th>\n      <td>NaN</td>\n      <td>NaN</td>\n      <td>ULCPQH</td>\n      <td>False</td>\n      <td>2017-01-01</td>\n      <td>09:15</td>\n      <td>SU1001</td>\n      <td>NaT</td>\n      <td>7477 017451</td>\n      <td>KRISTINA</td>\n      <td>...</td>\n      <td>NaN</td>\n      <td>KGD</td>\n      <td>YFLXEY</td>\n      <td>NaN</td>\n      <td>NaN</td>\n      <td>Y</td>\n      <td>NaN</td>\n      <td>NaN</td>\n      <td>NaN</td>\n      <td>NaN</td>\n    </tr>\n    <tr>\n      <th>2</th>\n      <td>NaN</td>\n      <td>NaN</td>\n      <td>YVICRN</td>\n      <td>False</td>\n      <td>2017-01-01</td>\n      <td>09:15</td>\n      <td>SU1001</td>\n      <td>NaT</td>\n      <td>6840 635650</td>\n      <td>ALEKSANDR</td>\n      <td>...</td>\n      <td>1PC</td>\n      <td>KGD</td>\n      <td>YSTNUB</td>\n      <td>NaN</td>\n      <td>4                       FF#FB 483772175</td>\n      <td>Y</td>\n      <td>NaN</td>\n      <td>NaN</td>\n      <td>NaN</td>\n      <td>NaN</td>\n    </tr>\n    <tr>\n      <th>3</th>\n      <td>Moscow</td>\n      <td>Registered</td>\n      <td>NaN</td>\n      <td>False</td>\n      <td>2017-01-01</td>\n      <td>09:15</td>\n      <td>SU1001</td>\n      <td>1974-07-09</td>\n      <td>1205 586135</td>\n      <td>MARK</td>\n      <td>...</td>\n      <td>NaN</td>\n      <td>NaN</td>\n      <td>NaN</td>\n      <td>NaN</td>\n      <td>NaN</td>\n      <td>NaN</td>\n      <td>NaN</td>\n      <td>NaN</td>\n      <td>NaN</td>\n      <td>NaN</td>\n    </tr>\n    <tr>\n      <th>4</th>\n      <td>NaN</td>\n      <td>NaN</td>\n      <td>DBEVCU</td>\n      <td>False</td>\n      <td>2017-01-01</td>\n      <td>09:15</td>\n      <td>SU1001</td>\n      <td>1990-05-04</td>\n      <td>6601 454145</td>\n      <td>VASILISA</td>\n      <td>...</td>\n      <td>1PC</td>\n      <td>KGD</td>\n      <td>YGRPPY</td>\n      <td>VGML</td>\n      <td>0                       FF#SU 806242829</td>\n      <td>Y</td>\n      <td>NaN</td>\n      <td>NaN</td>\n      <td>NaN</td>\n      <td>NaN</td>\n    </tr>\n    <tr>\n      <th>5</th>\n      <td>NaN</td>\n      <td>NaN</td>\n      <td>RRIOPR</td>\n      <td>False</td>\n      <td>2017-01-01</td>\n      <td>09:15</td>\n      <td>SU1001</td>\n      <td>1993-08-19</td>\n      <td>8514 626986</td>\n      <td>ROMAN</td>\n      <td>...</td>\n      <td>NaN</td>\n      <td>KGD</td>\n      <td>YGRPCF</td>\n      <td>NaN</td>\n      <td>Assistance Required</td>\n      <td>Y</td>\n      <td>NaN</td>\n      <td>NaN</td>\n      <td>NaN</td>\n      <td>NaN</td>\n    </tr>\n    <tr>\n      <th>6</th>\n      <td>Moscow</td>\n      <td>Transit</td>\n      <td>QVSCOZ</td>\n      <td>False</td>\n      <td>2017-01-01</td>\n      <td>09:15</td>\n      <td>SU1001</td>\n      <td>1977-04-27</td>\n      <td>9115 247669</td>\n      <td>VALENTINA</td>\n      <td>...</td>\n      <td>NaN</td>\n      <td>NaN</td>\n      <td>NaN</td>\n      <td>NaN</td>\n      <td>NaN</td>\n      <td>NaN</td>\n      <td>NaN</td>\n      <td>NaN</td>\n      <td>NaN</td>\n      <td>NaN</td>\n    </tr>\n    <tr>\n      <th>7</th>\n      <td>Moscow</td>\n      <td>Transit</td>\n      <td>NaN</td>\n      <td>False</td>\n      <td>2017-01-01</td>\n      <td>09:15</td>\n      <td>SU1001</td>\n      <td>1975-06-18</td>\n      <td>7343 212984</td>\n      <td>GEORGII</td>\n      <td>...</td>\n      <td>NaN</td>\n      <td>NaN</td>\n      <td>NaN</td>\n      <td>NaN</td>\n      <td>NaN</td>\n      <td>NaN</td>\n      <td>NaN</td>\n      <td>NaN</td>\n      <td>NaN</td>\n      <td>NaN</td>\n    </tr>\n    <tr>\n      <th>8</th>\n      <td>Moscow</td>\n      <td>Transit</td>\n      <td>HSMLZA</td>\n      <td>False</td>\n      <td>2017-01-01</td>\n      <td>09:15</td>\n      <td>SU1001</td>\n      <td>1971-10-04</td>\n      <td>1781 401081</td>\n      <td>AIDAR</td>\n      <td>...</td>\n      <td>NaN</td>\n      <td>NaN</td>\n      <td>NaN</td>\n      <td>NaN</td>\n      <td>NaN</td>\n      <td>NaN</td>\n      <td>NaN</td>\n      <td>NaN</td>\n      <td>NaN</td>\n      <td>NaN</td>\n    </tr>\n    <tr>\n      <th>9</th>\n      <td>Moscow</td>\n      <td>None</td>\n      <td>JCPZFV</td>\n      <td>False</td>\n      <td>2017-01-01</td>\n      <td>09:15</td>\n      <td>SU1001</td>\n      <td>1989-10-23</td>\n      <td>4652 149463</td>\n      <td>BORIS</td>\n      <td>...</td>\n      <td>NaN</td>\n      <td>KGD</td>\n      <td>JGRPMO</td>\n      <td>NaN</td>\n      <td>T                       FF#DT 671389892</td>\n      <td>J</td>\n      <td>NaN</td>\n      <td>NaN</td>\n      <td>NaN</td>\n      <td>NaN</td>\n    </tr>\n  </tbody>\n</table>\n<p>10 rows × 28 columns</p>\n</div>"
     },
     "execution_count": 563,
     "metadata": {},
     "output_type": "execute_result"
    }
   ],
   "source": [
    "df_joined = pd.read_csv('joined/joined.csv', parse_dates=['PassengerBirthDate', 'DepartureDate'])\n",
    "df_joined.head(preview_count)"
   ]
  },
  {
   "cell_type": "code",
   "execution_count": 564,
   "outputs": [
    {
     "data": {
      "text/plain": "   Unnamed: 0     Passanger        Date Fligth code Departure Arrival Class  \\\n0         0.0  DT 819946195  2017-09-28      AF1000       CDG     MAD     Y   \n1         1.0  KE 924442970  2017-09-28      AF1007       DUS     CDG     A   \n2         2.0  DT 712523868  2017-09-28      AF1019       FRA     CDG     P   \n3         3.0  FB 573423840  2017-09-28       AF102       CDG     CAN     Y   \n4         4.0  FB 283064549  2017-09-28      AF1022       CDG     MUC     A   \n5         5.0   DT 94418548  2017-09-28      AF1028       CDG     BLQ     Y   \n6         6.0  DT 743859674  2017-09-28      AF1029       BLQ     CDG     Y   \n7         7.0  KE 661563277  2017-09-28      AF1029       BLQ     CDG     Y   \n8         8.0   DT 38897067  2017-09-28      AF1062       CDG     ARN     Y   \n9         9.0  KE 719723558  2017-09-28      AF1065       BHX     CDG     Y   \n\n     Fare  \n0  YFLXDV  \n1  AFLXPB  \n2  PSTNGR  \n3  YGRPEZ  \n4  ARSTRF  \n5  YRSTQS  \n6  YRSTBP  \n7  YSTNTF  \n8  YGRPGZ  \n9  YFLXEH  ",
      "text/html": "<div>\n<style scoped>\n    .dataframe tbody tr th:only-of-type {\n        vertical-align: middle;\n    }\n\n    .dataframe tbody tr th {\n        vertical-align: top;\n    }\n\n    .dataframe thead th {\n        text-align: right;\n    }\n</style>\n<table border=\"1\" class=\"dataframe\">\n  <thead>\n    <tr style=\"text-align: right;\">\n      <th></th>\n      <th>Unnamed: 0</th>\n      <th>Passanger</th>\n      <th>Date</th>\n      <th>Fligth code</th>\n      <th>Departure</th>\n      <th>Arrival</th>\n      <th>Class</th>\n      <th>Fare</th>\n    </tr>\n  </thead>\n  <tbody>\n    <tr>\n      <th>0</th>\n      <td>0.0</td>\n      <td>DT 819946195</td>\n      <td>2017-09-28</td>\n      <td>AF1000</td>\n      <td>CDG</td>\n      <td>MAD</td>\n      <td>Y</td>\n      <td>YFLXDV</td>\n    </tr>\n    <tr>\n      <th>1</th>\n      <td>1.0</td>\n      <td>KE 924442970</td>\n      <td>2017-09-28</td>\n      <td>AF1007</td>\n      <td>DUS</td>\n      <td>CDG</td>\n      <td>A</td>\n      <td>AFLXPB</td>\n    </tr>\n    <tr>\n      <th>2</th>\n      <td>2.0</td>\n      <td>DT 712523868</td>\n      <td>2017-09-28</td>\n      <td>AF1019</td>\n      <td>FRA</td>\n      <td>CDG</td>\n      <td>P</td>\n      <td>PSTNGR</td>\n    </tr>\n    <tr>\n      <th>3</th>\n      <td>3.0</td>\n      <td>FB 573423840</td>\n      <td>2017-09-28</td>\n      <td>AF102</td>\n      <td>CDG</td>\n      <td>CAN</td>\n      <td>Y</td>\n      <td>YGRPEZ</td>\n    </tr>\n    <tr>\n      <th>4</th>\n      <td>4.0</td>\n      <td>FB 283064549</td>\n      <td>2017-09-28</td>\n      <td>AF1022</td>\n      <td>CDG</td>\n      <td>MUC</td>\n      <td>A</td>\n      <td>ARSTRF</td>\n    </tr>\n    <tr>\n      <th>5</th>\n      <td>5.0</td>\n      <td>DT 94418548</td>\n      <td>2017-09-28</td>\n      <td>AF1028</td>\n      <td>CDG</td>\n      <td>BLQ</td>\n      <td>Y</td>\n      <td>YRSTQS</td>\n    </tr>\n    <tr>\n      <th>6</th>\n      <td>6.0</td>\n      <td>DT 743859674</td>\n      <td>2017-09-28</td>\n      <td>AF1029</td>\n      <td>BLQ</td>\n      <td>CDG</td>\n      <td>Y</td>\n      <td>YRSTBP</td>\n    </tr>\n    <tr>\n      <th>7</th>\n      <td>7.0</td>\n      <td>KE 661563277</td>\n      <td>2017-09-28</td>\n      <td>AF1029</td>\n      <td>BLQ</td>\n      <td>CDG</td>\n      <td>Y</td>\n      <td>YSTNTF</td>\n    </tr>\n    <tr>\n      <th>8</th>\n      <td>8.0</td>\n      <td>DT 38897067</td>\n      <td>2017-09-28</td>\n      <td>AF1062</td>\n      <td>CDG</td>\n      <td>ARN</td>\n      <td>Y</td>\n      <td>YGRPGZ</td>\n    </tr>\n    <tr>\n      <th>9</th>\n      <td>9.0</td>\n      <td>KE 719723558</td>\n      <td>2017-09-28</td>\n      <td>AF1065</td>\n      <td>BHX</td>\n      <td>CDG</td>\n      <td>Y</td>\n      <td>YFLXEH</td>\n    </tr>\n  </tbody>\n</table>\n</div>"
     },
     "execution_count": 564,
     "metadata": {},
     "output_type": "execute_result"
    }
   ],
   "source": [
    "df_exch = pd.read_csv('preprocessed/SkyTeamExchange.csv')\n",
    "df_exch.head(preview_count)"
   ],
   "metadata": {
    "collapsed": false,
    "pycharm": {
     "name": "#%%\n"
    }
   }
  },
  {
   "cell_type": "code",
   "execution_count": 565,
   "outputs": [
    {
     "data": {
      "text/plain": "   Unnamed: 0        uid First name Last name Card type       Bonusprogramm  \\\n0           0  613142142    IAROMIR    ZVEREV  Airlines         Flying Blue   \n1           1  613142142    IAROMIR    ZVEREV  Airlines         Flying Blue   \n2           2  103197717   VITALINA  KOROVINA  Airlines  Korean Air SKYPASS   \n3           3  103197717   VITALINA  KOROVINA  Airlines  Korean Air SKYPASS   \n4           4  103197717   VITALINA  KOROVINA  Airlines  Korean Air SKYPASS   \n5           5  103197717   VITALINA  KOROVINA  Airlines  Korean Air SKYPASS   \n6           6  138879468      DANIL   VAVILOV  Airlines      Delta SkyMiles   \n7           7  138879468      DANIL   VAVILOV  Airlines      Delta SkyMiles   \n8           8  138879468      DANIL   VAVILOV  Airlines      Delta SkyMiles   \n9           9  138879468      DANIL   VAVILOV  Airlines      Delta SkyMiles   \n\n  Activity type Flight code        Date Departure Arrival    Fare  \n0      Airlines       KE827  2017-08-06       rea     SZX  YGRPZT  \n1      Airlines      MU9706  2017-10-26       PEK     BSD  YSTNYV  \n2      Airlines      DL5058  2017-09-11       CHA     ATL  YRSTKY  \n3      Airlines         KE1  2017-04-01       rea     HNL  PRSTRU  \n4      Airlines       DL837  2017-09-13       ATL     HNL  YGRPNG  \n5      Airlines      SU1523  2017-02-12       NUX     SVO  YFLXPS  \n6      Airlines      AF4445  2017-11-11       AJA     ORY  YSTNMG  \n7      Airlines      AZ7545  2017-03-07       FCO     PRG  ASTNZL  \n8      Airlines      AF7331  2017-09-17       MLH     ORY  YSTNOE  \n9      Airlines      AF4102  2017-10-07       ORY     AJA  YSTNJD  ",
      "text/html": "<div>\n<style scoped>\n    .dataframe tbody tr th:only-of-type {\n        vertical-align: middle;\n    }\n\n    .dataframe tbody tr th {\n        vertical-align: top;\n    }\n\n    .dataframe thead th {\n        text-align: right;\n    }\n</style>\n<table border=\"1\" class=\"dataframe\">\n  <thead>\n    <tr style=\"text-align: right;\">\n      <th></th>\n      <th>Unnamed: 0</th>\n      <th>uid</th>\n      <th>First name</th>\n      <th>Last name</th>\n      <th>Card type</th>\n      <th>Bonusprogramm</th>\n      <th>Activity type</th>\n      <th>Flight code</th>\n      <th>Date</th>\n      <th>Departure</th>\n      <th>Arrival</th>\n      <th>Fare</th>\n    </tr>\n  </thead>\n  <tbody>\n    <tr>\n      <th>0</th>\n      <td>0</td>\n      <td>613142142</td>\n      <td>IAROMIR</td>\n      <td>ZVEREV</td>\n      <td>Airlines</td>\n      <td>Flying Blue</td>\n      <td>Airlines</td>\n      <td>KE827</td>\n      <td>2017-08-06</td>\n      <td>rea</td>\n      <td>SZX</td>\n      <td>YGRPZT</td>\n    </tr>\n    <tr>\n      <th>1</th>\n      <td>1</td>\n      <td>613142142</td>\n      <td>IAROMIR</td>\n      <td>ZVEREV</td>\n      <td>Airlines</td>\n      <td>Flying Blue</td>\n      <td>Airlines</td>\n      <td>MU9706</td>\n      <td>2017-10-26</td>\n      <td>PEK</td>\n      <td>BSD</td>\n      <td>YSTNYV</td>\n    </tr>\n    <tr>\n      <th>2</th>\n      <td>2</td>\n      <td>103197717</td>\n      <td>VITALINA</td>\n      <td>KOROVINA</td>\n      <td>Airlines</td>\n      <td>Korean Air SKYPASS</td>\n      <td>Airlines</td>\n      <td>DL5058</td>\n      <td>2017-09-11</td>\n      <td>CHA</td>\n      <td>ATL</td>\n      <td>YRSTKY</td>\n    </tr>\n    <tr>\n      <th>3</th>\n      <td>3</td>\n      <td>103197717</td>\n      <td>VITALINA</td>\n      <td>KOROVINA</td>\n      <td>Airlines</td>\n      <td>Korean Air SKYPASS</td>\n      <td>Airlines</td>\n      <td>KE1</td>\n      <td>2017-04-01</td>\n      <td>rea</td>\n      <td>HNL</td>\n      <td>PRSTRU</td>\n    </tr>\n    <tr>\n      <th>4</th>\n      <td>4</td>\n      <td>103197717</td>\n      <td>VITALINA</td>\n      <td>KOROVINA</td>\n      <td>Airlines</td>\n      <td>Korean Air SKYPASS</td>\n      <td>Airlines</td>\n      <td>DL837</td>\n      <td>2017-09-13</td>\n      <td>ATL</td>\n      <td>HNL</td>\n      <td>YGRPNG</td>\n    </tr>\n    <tr>\n      <th>5</th>\n      <td>5</td>\n      <td>103197717</td>\n      <td>VITALINA</td>\n      <td>KOROVINA</td>\n      <td>Airlines</td>\n      <td>Korean Air SKYPASS</td>\n      <td>Airlines</td>\n      <td>SU1523</td>\n      <td>2017-02-12</td>\n      <td>NUX</td>\n      <td>SVO</td>\n      <td>YFLXPS</td>\n    </tr>\n    <tr>\n      <th>6</th>\n      <td>6</td>\n      <td>138879468</td>\n      <td>DANIL</td>\n      <td>VAVILOV</td>\n      <td>Airlines</td>\n      <td>Delta SkyMiles</td>\n      <td>Airlines</td>\n      <td>AF4445</td>\n      <td>2017-11-11</td>\n      <td>AJA</td>\n      <td>ORY</td>\n      <td>YSTNMG</td>\n    </tr>\n    <tr>\n      <th>7</th>\n      <td>7</td>\n      <td>138879468</td>\n      <td>DANIL</td>\n      <td>VAVILOV</td>\n      <td>Airlines</td>\n      <td>Delta SkyMiles</td>\n      <td>Airlines</td>\n      <td>AZ7545</td>\n      <td>2017-03-07</td>\n      <td>FCO</td>\n      <td>PRG</td>\n      <td>ASTNZL</td>\n    </tr>\n    <tr>\n      <th>8</th>\n      <td>8</td>\n      <td>138879468</td>\n      <td>DANIL</td>\n      <td>VAVILOV</td>\n      <td>Airlines</td>\n      <td>Delta SkyMiles</td>\n      <td>Airlines</td>\n      <td>AF7331</td>\n      <td>2017-09-17</td>\n      <td>MLH</td>\n      <td>ORY</td>\n      <td>YSTNOE</td>\n    </tr>\n    <tr>\n      <th>9</th>\n      <td>9</td>\n      <td>138879468</td>\n      <td>DANIL</td>\n      <td>VAVILOV</td>\n      <td>Airlines</td>\n      <td>Delta SkyMiles</td>\n      <td>Airlines</td>\n      <td>AF4102</td>\n      <td>2017-10-07</td>\n      <td>ORY</td>\n      <td>AJA</td>\n      <td>YSTNJD</td>\n    </tr>\n  </tbody>\n</table>\n</div>"
     },
     "execution_count": 565,
     "metadata": {},
     "output_type": "execute_result"
    }
   ],
   "source": [
    "df_points = pd.read_csv('preprocessed/PointzAggregator-AirlinesDate2.csv')\n",
    "df_points.head(preview_count)"
   ],
   "metadata": {
    "collapsed": false,
    "pycharm": {
     "name": "#%%\n"
    }
   }
  },
  {
   "cell_type": "code",
   "execution_count": 566,
   "outputs": [
    {
     "data": {
      "text/plain": "   sequence gender                    name agency  flight         from  \\\n0        32    MRS         LIDIYA ZHDANOVA    NaN  SU5436  VLADIVOSTOK   \n1        50     MR      SVIATOSLAV SOKOLOV    NaN  SU5436  VLADIVOSTOK   \n2        32     MR     SVIATOSLAV SUKHANOV    NaN  SU5436  VLADIVOSTOK   \n3        77     MR           DENIS ZELENIN    NaN  SU5436  VLADIVOSTOK   \n4        87    MRS       OSTROVSKAYA IRINA    NaN  SU5436  VLADIVOSTOK   \n5        77    MRS            ISAKOVA VERA    NaN  SU5642   KHABAROVSK   \n6        81    MRS  ZVYAGINTSEVA AL'BINA R    NaN  SU5642   KHABAROVSK   \n7        76    MRS       ISAKOVA AL'BINA V    NaN  SU6330  KALININGRAD   \n8        53    MRS     ANTONINA KOROL'KOVA    NaN  SU6330  KALININGRAD   \n9         5    MRS       ZOLOTOVA SVETLANA    NaN  SU6330  KALININGRAD   \n\n                 to airport_from airport_to        date   time     pnr  \\\n0             SEOUL          VVO        REA  2017-01-01  11:25  DYELAO   \n1             SEOUL          VVO        REA  2017-01-01  11:25  JWARRD   \n2             SEOUL          VVO        REA  2017-01-01  11:25  SETJJH   \n3             SEOUL          VVO        REA  2017-01-01  11:25  MZZNJI   \n4             SEOUL          VVO        REA  2017-01-01  11:25  NJNNPC   \n5       NOVOSIBIRSK          KHV        OVB  2017-01-01  19:25  PCJDQU   \n6       NOVOSIBIRSK          KHV        OVB  2017-01-01  19:25  UDXDFD   \n7  SAINT PETERSBURG          KGD        LED  2017-01-01  17:50  HOHNEI   \n8  SAINT PETERSBURG          KGD        LED  2017-01-01  17:50  BPYCCJ   \n9  SAINT PETERSBURG          KGD        LED  2017-01-01  17:50  UXQREL   \n\n           e-ticket  \n0  7100246988860481  \n1  7608904175905333  \n2   527257587351371  \n3  3696048365585673  \n4  7470610229847684  \n5  2207650722148272  \n6  5088998931607787  \n7  6918115548996527  \n8  4460236055678810  \n9  4591214625648674  ",
      "text/html": "<div>\n<style scoped>\n    .dataframe tbody tr th:only-of-type {\n        vertical-align: middle;\n    }\n\n    .dataframe tbody tr th {\n        vertical-align: top;\n    }\n\n    .dataframe thead th {\n        text-align: right;\n    }\n</style>\n<table border=\"1\" class=\"dataframe\">\n  <thead>\n    <tr style=\"text-align: right;\">\n      <th></th>\n      <th>sequence</th>\n      <th>gender</th>\n      <th>name</th>\n      <th>agency</th>\n      <th>flight</th>\n      <th>from</th>\n      <th>to</th>\n      <th>airport_from</th>\n      <th>airport_to</th>\n      <th>date</th>\n      <th>time</th>\n      <th>pnr</th>\n      <th>e-ticket</th>\n    </tr>\n  </thead>\n  <tbody>\n    <tr>\n      <th>0</th>\n      <td>32</td>\n      <td>MRS</td>\n      <td>LIDIYA ZHDANOVA</td>\n      <td>NaN</td>\n      <td>SU5436</td>\n      <td>VLADIVOSTOK</td>\n      <td>SEOUL</td>\n      <td>VVO</td>\n      <td>REA</td>\n      <td>2017-01-01</td>\n      <td>11:25</td>\n      <td>DYELAO</td>\n      <td>7100246988860481</td>\n    </tr>\n    <tr>\n      <th>1</th>\n      <td>50</td>\n      <td>MR</td>\n      <td>SVIATOSLAV SOKOLOV</td>\n      <td>NaN</td>\n      <td>SU5436</td>\n      <td>VLADIVOSTOK</td>\n      <td>SEOUL</td>\n      <td>VVO</td>\n      <td>REA</td>\n      <td>2017-01-01</td>\n      <td>11:25</td>\n      <td>JWARRD</td>\n      <td>7608904175905333</td>\n    </tr>\n    <tr>\n      <th>2</th>\n      <td>32</td>\n      <td>MR</td>\n      <td>SVIATOSLAV SUKHANOV</td>\n      <td>NaN</td>\n      <td>SU5436</td>\n      <td>VLADIVOSTOK</td>\n      <td>SEOUL</td>\n      <td>VVO</td>\n      <td>REA</td>\n      <td>2017-01-01</td>\n      <td>11:25</td>\n      <td>SETJJH</td>\n      <td>527257587351371</td>\n    </tr>\n    <tr>\n      <th>3</th>\n      <td>77</td>\n      <td>MR</td>\n      <td>DENIS ZELENIN</td>\n      <td>NaN</td>\n      <td>SU5436</td>\n      <td>VLADIVOSTOK</td>\n      <td>SEOUL</td>\n      <td>VVO</td>\n      <td>REA</td>\n      <td>2017-01-01</td>\n      <td>11:25</td>\n      <td>MZZNJI</td>\n      <td>3696048365585673</td>\n    </tr>\n    <tr>\n      <th>4</th>\n      <td>87</td>\n      <td>MRS</td>\n      <td>OSTROVSKAYA IRINA</td>\n      <td>NaN</td>\n      <td>SU5436</td>\n      <td>VLADIVOSTOK</td>\n      <td>SEOUL</td>\n      <td>VVO</td>\n      <td>REA</td>\n      <td>2017-01-01</td>\n      <td>11:25</td>\n      <td>NJNNPC</td>\n      <td>7470610229847684</td>\n    </tr>\n    <tr>\n      <th>5</th>\n      <td>77</td>\n      <td>MRS</td>\n      <td>ISAKOVA VERA</td>\n      <td>NaN</td>\n      <td>SU5642</td>\n      <td>KHABAROVSK</td>\n      <td>NOVOSIBIRSK</td>\n      <td>KHV</td>\n      <td>OVB</td>\n      <td>2017-01-01</td>\n      <td>19:25</td>\n      <td>PCJDQU</td>\n      <td>2207650722148272</td>\n    </tr>\n    <tr>\n      <th>6</th>\n      <td>81</td>\n      <td>MRS</td>\n      <td>ZVYAGINTSEVA AL'BINA R</td>\n      <td>NaN</td>\n      <td>SU5642</td>\n      <td>KHABAROVSK</td>\n      <td>NOVOSIBIRSK</td>\n      <td>KHV</td>\n      <td>OVB</td>\n      <td>2017-01-01</td>\n      <td>19:25</td>\n      <td>UDXDFD</td>\n      <td>5088998931607787</td>\n    </tr>\n    <tr>\n      <th>7</th>\n      <td>76</td>\n      <td>MRS</td>\n      <td>ISAKOVA AL'BINA V</td>\n      <td>NaN</td>\n      <td>SU6330</td>\n      <td>KALININGRAD</td>\n      <td>SAINT PETERSBURG</td>\n      <td>KGD</td>\n      <td>LED</td>\n      <td>2017-01-01</td>\n      <td>17:50</td>\n      <td>HOHNEI</td>\n      <td>6918115548996527</td>\n    </tr>\n    <tr>\n      <th>8</th>\n      <td>53</td>\n      <td>MRS</td>\n      <td>ANTONINA KOROL'KOVA</td>\n      <td>NaN</td>\n      <td>SU6330</td>\n      <td>KALININGRAD</td>\n      <td>SAINT PETERSBURG</td>\n      <td>KGD</td>\n      <td>LED</td>\n      <td>2017-01-01</td>\n      <td>17:50</td>\n      <td>BPYCCJ</td>\n      <td>4460236055678810</td>\n    </tr>\n    <tr>\n      <th>9</th>\n      <td>5</td>\n      <td>MRS</td>\n      <td>ZOLOTOVA SVETLANA</td>\n      <td>NaN</td>\n      <td>SU6330</td>\n      <td>KALININGRAD</td>\n      <td>SAINT PETERSBURG</td>\n      <td>KGD</td>\n      <td>LED</td>\n      <td>2017-01-01</td>\n      <td>17:50</td>\n      <td>UXQREL</td>\n      <td>4591214625648674</td>\n    </tr>\n  </tbody>\n</table>\n</div>"
     },
     "execution_count": 566,
     "metadata": {},
     "output_type": "execute_result"
    }
   ],
   "source": [
    "df_boardpasses = pd.read_csv('preprocessed/boarding_passes.csv', delimiter=';')\n",
    "df_boardpasses.head(preview_count)"
   ],
   "metadata": {
    "collapsed": false,
    "pycharm": {
     "name": "#%%\n"
    }
   }
  },
  {
   "cell_type": "code",
   "execution_count": 567,
   "outputs": [
    {
     "data": {
      "text/plain": "  ArrivalAirport         ArrivalCity    ArrivalCountry  CodeShare  \\\n0            PIT       Pittsburgh PA  United States of      False   \n1            DTW          Detroit MI  United States of      False   \n2            LGA         New York NY  United States of      False   \n3            WAW              Warsaw            Poland       True   \n4            ATL          Atlanta GA  United States of      False   \n5            FLL  Fort Lauderdale FL     United States      False   \n6            ATL          Atlanta GA  United States of      False   \n7            OAJ     Jacksonville NC  United States of      False   \n8            SMF       Sacramento CA  United States of      False   \n9            BOS           Boston MA  United States of       True   \n\n  DepartureAirport    DepartureCity    DepartureCountry DepartureDate  \\\n0              BOS        Boston MA    United States of    2017-03-04   \n1              GRB     Green Bay WI    United States of    2017-07-21   \n2              PIT    Pittsburgh PA    United States of    2017-03-22   \n3              SVO           Moscow  Russian Federation    2017-01-04   \n4              XNA  Fayetteville AR    United States of    2017-08-08   \n5              ATL       Atlanta GA    United States of    2017-08-30   \n6              ILM    Wilmington NC    United States of    2017-06-10   \n7              ATL       Atlanta GA    United States of    2017-11-10   \n8              ATL       Atlanta GA    United States of    2017-12-14   \n9              CDG            Paris              France    2017-02-27   \n\n  FlightNumber PassengerFirstName PassengerLastName PassengerNickName  \\\n0       DL3377                NaN               NaN    FrequentFlyer0   \n1       DL3630                NaN               NaN    FrequentFlyer0   \n2       DL5361                NaN               NaN    FrequentFlyer0   \n3       SU3702                NaN               NaN    FrequentFlyer0   \n4       DL3412                NaN               NaN    FrequentFlyer0   \n5        DL659                NaN               NaN    FrequentFlyer0   \n6       DL5032                NaN               NaN    FrequentFlyer0   \n7       DL3363                NaN               NaN    FrequentFlyer0   \n8       DL1364                NaN               NaN    FrequentFlyer0   \n9       AF3616                NaN               NaN    FrequentFlyer0   \n\n  PassengerSex  \n0         Male  \n1         Male  \n2         Male  \n3         Male  \n4         Male  \n5         Male  \n6         Male  \n7         Male  \n8         Male  \n9         Male  ",
      "text/html": "<div>\n<style scoped>\n    .dataframe tbody tr th:only-of-type {\n        vertical-align: middle;\n    }\n\n    .dataframe tbody tr th {\n        vertical-align: top;\n    }\n\n    .dataframe thead th {\n        text-align: right;\n    }\n</style>\n<table border=\"1\" class=\"dataframe\">\n  <thead>\n    <tr style=\"text-align: right;\">\n      <th></th>\n      <th>ArrivalAirport</th>\n      <th>ArrivalCity</th>\n      <th>ArrivalCountry</th>\n      <th>CodeShare</th>\n      <th>DepartureAirport</th>\n      <th>DepartureCity</th>\n      <th>DepartureCountry</th>\n      <th>DepartureDate</th>\n      <th>FlightNumber</th>\n      <th>PassengerFirstName</th>\n      <th>PassengerLastName</th>\n      <th>PassengerNickName</th>\n      <th>PassengerSex</th>\n    </tr>\n  </thead>\n  <tbody>\n    <tr>\n      <th>0</th>\n      <td>PIT</td>\n      <td>Pittsburgh PA</td>\n      <td>United States of</td>\n      <td>False</td>\n      <td>BOS</td>\n      <td>Boston MA</td>\n      <td>United States of</td>\n      <td>2017-03-04</td>\n      <td>DL3377</td>\n      <td>NaN</td>\n      <td>NaN</td>\n      <td>FrequentFlyer0</td>\n      <td>Male</td>\n    </tr>\n    <tr>\n      <th>1</th>\n      <td>DTW</td>\n      <td>Detroit MI</td>\n      <td>United States of</td>\n      <td>False</td>\n      <td>GRB</td>\n      <td>Green Bay WI</td>\n      <td>United States of</td>\n      <td>2017-07-21</td>\n      <td>DL3630</td>\n      <td>NaN</td>\n      <td>NaN</td>\n      <td>FrequentFlyer0</td>\n      <td>Male</td>\n    </tr>\n    <tr>\n      <th>2</th>\n      <td>LGA</td>\n      <td>New York NY</td>\n      <td>United States of</td>\n      <td>False</td>\n      <td>PIT</td>\n      <td>Pittsburgh PA</td>\n      <td>United States of</td>\n      <td>2017-03-22</td>\n      <td>DL5361</td>\n      <td>NaN</td>\n      <td>NaN</td>\n      <td>FrequentFlyer0</td>\n      <td>Male</td>\n    </tr>\n    <tr>\n      <th>3</th>\n      <td>WAW</td>\n      <td>Warsaw</td>\n      <td>Poland</td>\n      <td>True</td>\n      <td>SVO</td>\n      <td>Moscow</td>\n      <td>Russian Federation</td>\n      <td>2017-01-04</td>\n      <td>SU3702</td>\n      <td>NaN</td>\n      <td>NaN</td>\n      <td>FrequentFlyer0</td>\n      <td>Male</td>\n    </tr>\n    <tr>\n      <th>4</th>\n      <td>ATL</td>\n      <td>Atlanta GA</td>\n      <td>United States of</td>\n      <td>False</td>\n      <td>XNA</td>\n      <td>Fayetteville AR</td>\n      <td>United States of</td>\n      <td>2017-08-08</td>\n      <td>DL3412</td>\n      <td>NaN</td>\n      <td>NaN</td>\n      <td>FrequentFlyer0</td>\n      <td>Male</td>\n    </tr>\n    <tr>\n      <th>5</th>\n      <td>FLL</td>\n      <td>Fort Lauderdale FL</td>\n      <td>United States</td>\n      <td>False</td>\n      <td>ATL</td>\n      <td>Atlanta GA</td>\n      <td>United States of</td>\n      <td>2017-08-30</td>\n      <td>DL659</td>\n      <td>NaN</td>\n      <td>NaN</td>\n      <td>FrequentFlyer0</td>\n      <td>Male</td>\n    </tr>\n    <tr>\n      <th>6</th>\n      <td>ATL</td>\n      <td>Atlanta GA</td>\n      <td>United States of</td>\n      <td>False</td>\n      <td>ILM</td>\n      <td>Wilmington NC</td>\n      <td>United States of</td>\n      <td>2017-06-10</td>\n      <td>DL5032</td>\n      <td>NaN</td>\n      <td>NaN</td>\n      <td>FrequentFlyer0</td>\n      <td>Male</td>\n    </tr>\n    <tr>\n      <th>7</th>\n      <td>OAJ</td>\n      <td>Jacksonville NC</td>\n      <td>United States of</td>\n      <td>False</td>\n      <td>ATL</td>\n      <td>Atlanta GA</td>\n      <td>United States of</td>\n      <td>2017-11-10</td>\n      <td>DL3363</td>\n      <td>NaN</td>\n      <td>NaN</td>\n      <td>FrequentFlyer0</td>\n      <td>Male</td>\n    </tr>\n    <tr>\n      <th>8</th>\n      <td>SMF</td>\n      <td>Sacramento CA</td>\n      <td>United States of</td>\n      <td>False</td>\n      <td>ATL</td>\n      <td>Atlanta GA</td>\n      <td>United States of</td>\n      <td>2017-12-14</td>\n      <td>DL1364</td>\n      <td>NaN</td>\n      <td>NaN</td>\n      <td>FrequentFlyer0</td>\n      <td>Male</td>\n    </tr>\n    <tr>\n      <th>9</th>\n      <td>BOS</td>\n      <td>Boston MA</td>\n      <td>United States of</td>\n      <td>True</td>\n      <td>CDG</td>\n      <td>Paris</td>\n      <td>France</td>\n      <td>2017-02-27</td>\n      <td>AF3616</td>\n      <td>NaN</td>\n      <td>NaN</td>\n      <td>FrequentFlyer0</td>\n      <td>Male</td>\n    </tr>\n  </tbody>\n</table>\n</div>"
     },
     "execution_count": 567,
     "metadata": {},
     "output_type": "execute_result"
    }
   ],
   "source": [
    "df_forum = pd.read_csv('preprocessed/FrequentFlyerForumFlights.csv')\n",
    "df_forum.head(preview_count)"
   ],
   "metadata": {
    "collapsed": false,
    "pycharm": {
     "name": "#%%\n"
    }
   }
  },
  {
   "cell_type": "code",
   "execution_count": 568,
   "outputs": [
    {
     "data": {
      "text/plain": "        validity      days dep_time arr_time  flight aircraft travel_time  \\\n0  1 Nov - 31 Ja   1234567    06:00    07:25  KL1328      73W       1H25M   \n1  1 Nov - 31 Ja   1234567    10:05    11:30  KL1333      73W       1H25M   \n2  1 Nov - 31 Ja   1234567    12:10    13:35  KL1334      73W       1H25M   \n3  1 Nov - 23 De   1234567    16:25    17:45  KL1335      EQV       1H20M   \n4  1 Nov - 23 De   1234567    18:15    19:35  KL1336      EQV       1H20M   \n5  26 Dec - 6 Ja  1, 34567    16:25    17:45  KL1335      EQV       1H20M   \n6  26 Dec - 6 Ja  1, 34567    18:15    19:35  KL1336      EQV       1H20M   \n7  7 Jan - 31 Ja   1234567    16:25    17:45  KL1335      EQV       1H20M   \n8  7 Jan - 31 Ja   1234567    18:15    19:35  KL1336      EQV       1H20M   \n9  1 Nov - 31 Ja   1234567    21:00    22:20  KL1337      73W       1H20M   \n\n                            from_value                             to_value  \n0       ['Aalborg,', 'Denmark', 'AAL']  ['Amsterdam', 'Netherlands', 'AMS']  \n1  ['Amsterdam', 'Netherlands', 'AMS']       ['Aalborg,', 'Denmark', 'AAL']  \n2       ['Aalborg,', 'Denmark', 'AAL']  ['Amsterdam', 'Netherlands', 'AMS']  \n3  ['Amsterdam', 'Netherlands', 'AMS']       ['Aalborg,', 'Denmark', 'AAL']  \n4       ['Aalborg,', 'Denmark', 'AAL']  ['Amsterdam', 'Netherlands', 'AMS']  \n5  ['Amsterdam', 'Netherlands', 'AMS']       ['Aalborg,', 'Denmark', 'AAL']  \n6       ['Aalborg,', 'Denmark', 'AAL']  ['Amsterdam', 'Netherlands', 'AMS']  \n7  ['Amsterdam', 'Netherlands', 'AMS']       ['Aalborg,', 'Denmark', 'AAL']  \n8       ['Aalborg,', 'Denmark', 'AAL']  ['Amsterdam', 'Netherlands', 'AMS']  \n9  ['Amsterdam', 'Netherlands', 'AMS']       ['Aalborg,', 'Denmark', 'AAL']  ",
      "text/html": "<div>\n<style scoped>\n    .dataframe tbody tr th:only-of-type {\n        vertical-align: middle;\n    }\n\n    .dataframe tbody tr th {\n        vertical-align: top;\n    }\n\n    .dataframe thead th {\n        text-align: right;\n    }\n</style>\n<table border=\"1\" class=\"dataframe\">\n  <thead>\n    <tr style=\"text-align: right;\">\n      <th></th>\n      <th>validity</th>\n      <th>days</th>\n      <th>dep_time</th>\n      <th>arr_time</th>\n      <th>flight</th>\n      <th>aircraft</th>\n      <th>travel_time</th>\n      <th>from_value</th>\n      <th>to_value</th>\n    </tr>\n  </thead>\n  <tbody>\n    <tr>\n      <th>0</th>\n      <td>1 Nov - 31 Ja</td>\n      <td>1234567</td>\n      <td>06:00</td>\n      <td>07:25</td>\n      <td>KL1328</td>\n      <td>73W</td>\n      <td>1H25M</td>\n      <td>['Aalborg,', 'Denmark', 'AAL']</td>\n      <td>['Amsterdam', 'Netherlands', 'AMS']</td>\n    </tr>\n    <tr>\n      <th>1</th>\n      <td>1 Nov - 31 Ja</td>\n      <td>1234567</td>\n      <td>10:05</td>\n      <td>11:30</td>\n      <td>KL1333</td>\n      <td>73W</td>\n      <td>1H25M</td>\n      <td>['Amsterdam', 'Netherlands', 'AMS']</td>\n      <td>['Aalborg,', 'Denmark', 'AAL']</td>\n    </tr>\n    <tr>\n      <th>2</th>\n      <td>1 Nov - 31 Ja</td>\n      <td>1234567</td>\n      <td>12:10</td>\n      <td>13:35</td>\n      <td>KL1334</td>\n      <td>73W</td>\n      <td>1H25M</td>\n      <td>['Aalborg,', 'Denmark', 'AAL']</td>\n      <td>['Amsterdam', 'Netherlands', 'AMS']</td>\n    </tr>\n    <tr>\n      <th>3</th>\n      <td>1 Nov - 23 De</td>\n      <td>1234567</td>\n      <td>16:25</td>\n      <td>17:45</td>\n      <td>KL1335</td>\n      <td>EQV</td>\n      <td>1H20M</td>\n      <td>['Amsterdam', 'Netherlands', 'AMS']</td>\n      <td>['Aalborg,', 'Denmark', 'AAL']</td>\n    </tr>\n    <tr>\n      <th>4</th>\n      <td>1 Nov - 23 De</td>\n      <td>1234567</td>\n      <td>18:15</td>\n      <td>19:35</td>\n      <td>KL1336</td>\n      <td>EQV</td>\n      <td>1H20M</td>\n      <td>['Aalborg,', 'Denmark', 'AAL']</td>\n      <td>['Amsterdam', 'Netherlands', 'AMS']</td>\n    </tr>\n    <tr>\n      <th>5</th>\n      <td>26 Dec - 6 Ja</td>\n      <td>1, 34567</td>\n      <td>16:25</td>\n      <td>17:45</td>\n      <td>KL1335</td>\n      <td>EQV</td>\n      <td>1H20M</td>\n      <td>['Amsterdam', 'Netherlands', 'AMS']</td>\n      <td>['Aalborg,', 'Denmark', 'AAL']</td>\n    </tr>\n    <tr>\n      <th>6</th>\n      <td>26 Dec - 6 Ja</td>\n      <td>1, 34567</td>\n      <td>18:15</td>\n      <td>19:35</td>\n      <td>KL1336</td>\n      <td>EQV</td>\n      <td>1H20M</td>\n      <td>['Aalborg,', 'Denmark', 'AAL']</td>\n      <td>['Amsterdam', 'Netherlands', 'AMS']</td>\n    </tr>\n    <tr>\n      <th>7</th>\n      <td>7 Jan - 31 Ja</td>\n      <td>1234567</td>\n      <td>16:25</td>\n      <td>17:45</td>\n      <td>KL1335</td>\n      <td>EQV</td>\n      <td>1H20M</td>\n      <td>['Amsterdam', 'Netherlands', 'AMS']</td>\n      <td>['Aalborg,', 'Denmark', 'AAL']</td>\n    </tr>\n    <tr>\n      <th>8</th>\n      <td>7 Jan - 31 Ja</td>\n      <td>1234567</td>\n      <td>18:15</td>\n      <td>19:35</td>\n      <td>KL1336</td>\n      <td>EQV</td>\n      <td>1H20M</td>\n      <td>['Aalborg,', 'Denmark', 'AAL']</td>\n      <td>['Amsterdam', 'Netherlands', 'AMS']</td>\n    </tr>\n    <tr>\n      <th>9</th>\n      <td>1 Nov - 31 Ja</td>\n      <td>1234567</td>\n      <td>21:00</td>\n      <td>22:20</td>\n      <td>KL1337</td>\n      <td>73W</td>\n      <td>1H20M</td>\n      <td>['Amsterdam', 'Netherlands', 'AMS']</td>\n      <td>['Aalborg,', 'Denmark', 'AAL']</td>\n    </tr>\n  </tbody>\n</table>\n</div>"
     },
     "execution_count": 568,
     "metadata": {},
     "output_type": "execute_result"
    }
   ],
   "source": [
    "df_timetable = pd.read_csv('preprocessed/timetable.csv')\n",
    "df_timetable.head(preview_count)"
   ],
   "metadata": {
    "collapsed": false,
    "pycharm": {
     "name": "#%%\n"
    }
   }
  },
  {
   "cell_type": "code",
   "execution_count": 569,
   "outputs": [
    {
     "data": {
      "text/plain": "  PassengerLastName PassengerFirstName  FlightCount\n0           ANTONOV            DMITRII           21\n1           ERMILOV             SERGEI           22\n2        GONCHAROVA             MARIIA           21\n3           GRIBOVA            TATIANA           25\n4          KOLTSOVA             OKSANA           22\n5       KOZLOVSKAIA            AMALIIA           26\n6           MALTSEV               VLAD           23\n7        PLOTNIKOVA              LIANA           21\n8         VYSOTSKII               EMIL           21",
      "text/html": "<div>\n<style scoped>\n    .dataframe tbody tr th:only-of-type {\n        vertical-align: middle;\n    }\n\n    .dataframe tbody tr th {\n        vertical-align: top;\n    }\n\n    .dataframe thead th {\n        text-align: right;\n    }\n</style>\n<table border=\"1\" class=\"dataframe\">\n  <thead>\n    <tr style=\"text-align: right;\">\n      <th></th>\n      <th>PassengerLastName</th>\n      <th>PassengerFirstName</th>\n      <th>FlightCount</th>\n    </tr>\n  </thead>\n  <tbody>\n    <tr>\n      <th>0</th>\n      <td>ANTONOV</td>\n      <td>DMITRII</td>\n      <td>21</td>\n    </tr>\n    <tr>\n      <th>1</th>\n      <td>ERMILOV</td>\n      <td>SERGEI</td>\n      <td>22</td>\n    </tr>\n    <tr>\n      <th>2</th>\n      <td>GONCHAROVA</td>\n      <td>MARIIA</td>\n      <td>21</td>\n    </tr>\n    <tr>\n      <th>3</th>\n      <td>GRIBOVA</td>\n      <td>TATIANA</td>\n      <td>25</td>\n    </tr>\n    <tr>\n      <th>4</th>\n      <td>KOLTSOVA</td>\n      <td>OKSANA</td>\n      <td>22</td>\n    </tr>\n    <tr>\n      <th>5</th>\n      <td>KOZLOVSKAIA</td>\n      <td>AMALIIA</td>\n      <td>26</td>\n    </tr>\n    <tr>\n      <th>6</th>\n      <td>MALTSEV</td>\n      <td>VLAD</td>\n      <td>23</td>\n    </tr>\n    <tr>\n      <th>7</th>\n      <td>PLOTNIKOVA</td>\n      <td>LIANA</td>\n      <td>21</td>\n    </tr>\n    <tr>\n      <th>8</th>\n      <td>VYSOTSKII</td>\n      <td>EMIL</td>\n      <td>21</td>\n    </tr>\n  </tbody>\n</table>\n</div>"
     },
     "execution_count": 569,
     "metadata": {},
     "output_type": "execute_result"
    }
   ],
   "source": [
    "df_suspicious_by_bonus = pd.read_csv('final/suspicious_1.csv')\n",
    "df_suspicious_by_bonus.head(preview_count)\n"
   ],
   "metadata": {
    "collapsed": false,
    "pycharm": {
     "name": "#%%\n"
    }
   }
  },
  {
   "cell_type": "markdown",
   "source": [
    "## 1. Unique directions / all flights ratio for every passenger\n",
    "Also look for unique arrival cities by passenger"
   ],
   "metadata": {
    "collapsed": false
   }
  },
  {
   "cell_type": "code",
   "execution_count": 570,
   "id": "8968d46b",
   "metadata": {},
   "outputs": [
    {
     "data": {
      "text/plain": "  ArrivalCity BaggageState BookingCode  CodeShare DepartureDate DepartureTime  \\\n0      Moscow      Transit      WMXPVY      False    2017-01-01         09:15   \n1         NaN          NaN      ULCPQH      False    2017-01-01         09:15   \n2         NaN          NaN      YVICRN      False    2017-01-01         09:15   \n3      Moscow   Registered         NaN      False    2017-01-01         09:15   \n4         NaN          NaN      DBEVCU      False    2017-01-01         09:15   \n\n  FlightNumber PassengerBirthDate PassengerDocument PassengerFirstName  ...  \\\n0       SU1001         1999-12-13       5140 683757              ALISA  ...   \n1       SU1001                NaT       7477 017451           KRISTINA  ...   \n2       SU1001                NaT       6840 635650          ALEKSANDR  ...   \n3       SU1001         1974-07-09       1205 586135               MARK  ...   \n4       SU1001         1990-05-04       6601 454145           VASILISA  ...   \n\n     Fare  Meal                  PassengerAdditionalInfo  PassengerClass  \\\n0  YFLXYW  RVML                                        F               Y   \n1  YFLXEY   NaN                                      NaN               Y   \n2  YSTNUB   NaN  4                       FF#FB 483772175               Y   \n3     NaN   NaN                                      NaN             NaN   \n4  YGRPPY  VGML  0                       FF#SU 806242829               Y   \n\n  ArrivalCountry DepartureCity DepartureCountry PassengerNickName  \\\n0            NaN           NaN              NaN               NaN   \n1            NaN           NaN              NaN               NaN   \n2            NaN           NaN              NaN               NaN   \n3            NaN           NaN              NaN               NaN   \n4            NaN           NaN              NaN               NaN   \n\n  FlightDirection        PassengerName  \n0         SVO KGD       ALISA ABRAMOVA  \n1         SVO KGD    KRISTINA ARTEMOVA  \n2         SVO KGD  ALEKSANDR BABUSHKIN  \n3             NaN         MARK BEREZIN  \n4         SVO KGD     VASILISA BLINOVA  \n\n[5 rows x 30 columns]",
      "text/html": "<div>\n<style scoped>\n    .dataframe tbody tr th:only-of-type {\n        vertical-align: middle;\n    }\n\n    .dataframe tbody tr th {\n        vertical-align: top;\n    }\n\n    .dataframe thead th {\n        text-align: right;\n    }\n</style>\n<table border=\"1\" class=\"dataframe\">\n  <thead>\n    <tr style=\"text-align: right;\">\n      <th></th>\n      <th>ArrivalCity</th>\n      <th>BaggageState</th>\n      <th>BookingCode</th>\n      <th>CodeShare</th>\n      <th>DepartureDate</th>\n      <th>DepartureTime</th>\n      <th>FlightNumber</th>\n      <th>PassengerBirthDate</th>\n      <th>PassengerDocument</th>\n      <th>PassengerFirstName</th>\n      <th>...</th>\n      <th>Fare</th>\n      <th>Meal</th>\n      <th>PassengerAdditionalInfo</th>\n      <th>PassengerClass</th>\n      <th>ArrivalCountry</th>\n      <th>DepartureCity</th>\n      <th>DepartureCountry</th>\n      <th>PassengerNickName</th>\n      <th>FlightDirection</th>\n      <th>PassengerName</th>\n    </tr>\n  </thead>\n  <tbody>\n    <tr>\n      <th>0</th>\n      <td>Moscow</td>\n      <td>Transit</td>\n      <td>WMXPVY</td>\n      <td>False</td>\n      <td>2017-01-01</td>\n      <td>09:15</td>\n      <td>SU1001</td>\n      <td>1999-12-13</td>\n      <td>5140 683757</td>\n      <td>ALISA</td>\n      <td>...</td>\n      <td>YFLXYW</td>\n      <td>RVML</td>\n      <td>F</td>\n      <td>Y</td>\n      <td>NaN</td>\n      <td>NaN</td>\n      <td>NaN</td>\n      <td>NaN</td>\n      <td>SVO KGD</td>\n      <td>ALISA ABRAMOVA</td>\n    </tr>\n    <tr>\n      <th>1</th>\n      <td>NaN</td>\n      <td>NaN</td>\n      <td>ULCPQH</td>\n      <td>False</td>\n      <td>2017-01-01</td>\n      <td>09:15</td>\n      <td>SU1001</td>\n      <td>NaT</td>\n      <td>7477 017451</td>\n      <td>KRISTINA</td>\n      <td>...</td>\n      <td>YFLXEY</td>\n      <td>NaN</td>\n      <td>NaN</td>\n      <td>Y</td>\n      <td>NaN</td>\n      <td>NaN</td>\n      <td>NaN</td>\n      <td>NaN</td>\n      <td>SVO KGD</td>\n      <td>KRISTINA ARTEMOVA</td>\n    </tr>\n    <tr>\n      <th>2</th>\n      <td>NaN</td>\n      <td>NaN</td>\n      <td>YVICRN</td>\n      <td>False</td>\n      <td>2017-01-01</td>\n      <td>09:15</td>\n      <td>SU1001</td>\n      <td>NaT</td>\n      <td>6840 635650</td>\n      <td>ALEKSANDR</td>\n      <td>...</td>\n      <td>YSTNUB</td>\n      <td>NaN</td>\n      <td>4                       FF#FB 483772175</td>\n      <td>Y</td>\n      <td>NaN</td>\n      <td>NaN</td>\n      <td>NaN</td>\n      <td>NaN</td>\n      <td>SVO KGD</td>\n      <td>ALEKSANDR BABUSHKIN</td>\n    </tr>\n    <tr>\n      <th>3</th>\n      <td>Moscow</td>\n      <td>Registered</td>\n      <td>NaN</td>\n      <td>False</td>\n      <td>2017-01-01</td>\n      <td>09:15</td>\n      <td>SU1001</td>\n      <td>1974-07-09</td>\n      <td>1205 586135</td>\n      <td>MARK</td>\n      <td>...</td>\n      <td>NaN</td>\n      <td>NaN</td>\n      <td>NaN</td>\n      <td>NaN</td>\n      <td>NaN</td>\n      <td>NaN</td>\n      <td>NaN</td>\n      <td>NaN</td>\n      <td>NaN</td>\n      <td>MARK BEREZIN</td>\n    </tr>\n    <tr>\n      <th>4</th>\n      <td>NaN</td>\n      <td>NaN</td>\n      <td>DBEVCU</td>\n      <td>False</td>\n      <td>2017-01-01</td>\n      <td>09:15</td>\n      <td>SU1001</td>\n      <td>1990-05-04</td>\n      <td>6601 454145</td>\n      <td>VASILISA</td>\n      <td>...</td>\n      <td>YGRPPY</td>\n      <td>VGML</td>\n      <td>0                       FF#SU 806242829</td>\n      <td>Y</td>\n      <td>NaN</td>\n      <td>NaN</td>\n      <td>NaN</td>\n      <td>NaN</td>\n      <td>SVO KGD</td>\n      <td>VASILISA BLINOVA</td>\n    </tr>\n  </tbody>\n</table>\n<p>5 rows × 30 columns</p>\n</div>"
     },
     "execution_count": 570,
     "metadata": {},
     "output_type": "execute_result"
    }
   ],
   "source": [
    "df_joined['FlightDirection'] = df_joined['ArrivalAirport'] + ' ' + df_joined['DepartureAirport']\n",
    "df_joined['PassengerName'] = df_joined['PassengerFirstName'] + ' ' + df_joined['PassengerLastName']\n",
    "df_joined.head()"
   ]
  },
  {
   "cell_type": "code",
   "execution_count": 571,
   "id": "8188104e",
   "metadata": {},
   "outputs": [
    {
     "data": {
      "text/plain": "PassengerName\nADEL AFANASEV         0\nADEL AGEEV            3\nADEL AKIMOV           3\nADEL AKSENOV          3\nADEL ALEKSANDROV      1\n                     ..\nZLATA ZOTOVA          1\nZLATA ZUBOVA          4\nZLATA ZVEREVA         1\nZLATA ZVIAGINTSEVA    3\nZLATA ZYKOVA          1\nName: FlightDirection, Length: 63076, dtype: int64"
     },
     "execution_count": 571,
     "metadata": {},
     "output_type": "execute_result"
    }
   ],
   "source": [
    "unique_flight_directions = df_joined.groupby(['PassengerName'])['FlightDirection'].nunique()\n",
    "unique_flight_directions"
   ]
  },
  {
   "cell_type": "code",
   "execution_count": 572,
   "id": "d4e66833",
   "metadata": {},
   "outputs": [
    {
     "data": {
      "text/plain": "STANISLAV BOBROV           35\nMIROSLAVA LAPTEVA          31\nSABINA SHMELEVA            29\nILIA RAKOV                 28\nVASILINA POTAPOVA          28\n                           ..\nVIKTOR IVANOV               1\nBORIS KOZYREV               1\nALEKSANDRA KALASHNIKOVA     1\nIAROSLAV KORCHAGIN          1\nRINAT RUMIANTSEV            1\nName: PassengerName, Length: 63076, dtype: int64"
     },
     "execution_count": 572,
     "metadata": {},
     "output_type": "execute_result"
    }
   ],
   "source": [
    "flight_counts = df_joined['PassengerName'].value_counts()\n",
    "flight_counts"
   ]
  },
  {
   "cell_type": "code",
   "execution_count": 573,
   "id": "364f02fb",
   "metadata": {},
   "outputs": [],
   "source": [
    "ratio = {}\n",
    "for name in df_joined['PassengerName'].unique():\n",
    "    if flight_counts[name] > suspicious_flight_threshold_1:\n",
    "        ratio[name] = unique_flight_directions[name] / flight_counts[name]"
   ]
  },
  {
   "cell_type": "code",
   "execution_count": 574,
   "id": "4593abf1",
   "metadata": {},
   "outputs": [
    {
     "data": {
      "text/plain": "<Figure size 432x288 with 1 Axes>",
      "image/png": "[encoded data removed]"
     },
     "metadata": {
      "needs_background": "light"
     },
     "output_type": "display_data"
    }
   ],
   "source": [
    "ax = np.histogram(np.array(list(ratio.values())), bins=32)\n",
    "plt.hist(np.array(list(ratio.values())), bins=20)\n",
    "plt.title(\"histogram\")\n",
    "plt.show()"
   ]
  },
  {
   "cell_type": "code",
   "execution_count": 575,
   "outputs": [],
   "source": [
    "for n, r in ratio.items():\n",
    "    if r < 0.15:\n",
    "        suspicious_passengers[n] = suspicious_passengers.get(n, 0) + hypotheses_weights[0]"
   ],
   "metadata": {
    "collapsed": false,
    "pycharm": {
     "name": "#%%\n"
    }
   }
  },
  {
   "cell_type": "code",
   "execution_count": 576,
   "id": "6b3854b5",
   "metadata": {},
   "outputs": [
    {
     "data": {
      "text/plain": "PassengerName\nADEL AFANASEV         1\nADEL AGEEV            1\nADEL AKIMOV           2\nADEL AKSENOV          3\nADEL ALEKSANDROV      2\n                     ..\nZLATA ZOTOVA          1\nZLATA ZUBOVA          3\nZLATA ZVEREVA         0\nZLATA ZVIAGINTSEVA    2\nZLATA ZYKOVA          1\nName: ArrivalCity, Length: 63076, dtype: int64"
     },
     "execution_count": 576,
     "metadata": {},
     "output_type": "execute_result"
    }
   ],
   "source": [
    "uniqueCity = df_joined.groupby(['PassengerName'])['ArrivalCity'].nunique()\n",
    "uniqueCity"
   ]
  },
  {
   "cell_type": "code",
   "execution_count": 577,
   "id": "a30ba7be",
   "metadata": {},
   "outputs": [],
   "source": [
    "ratioCity = []\n",
    "for name in df_joined['PassengerName'].unique():\n",
    "    if flight_counts[name] > suspicious_flight_threshold_1:\n",
    "        ratioCity.append(uniqueCity[name] / flight_counts[name])"
   ]
  },
  {
   "cell_type": "code",
   "execution_count": 578,
   "id": "51f54a5f",
   "metadata": {},
   "outputs": [
    {
     "data": {
      "text/plain": "<Figure size 432x288 with 1 Axes>",
      "image/png": "[encoded data removed]"
     },
     "metadata": {
      "needs_background": "light"
     },
     "output_type": "display_data"
    }
   ],
   "source": [
    "ax = np.histogram(np.array(ratioCity), bins=32)\n",
    "plt.hist(np.array(ratioCity), bins=20)\n",
    "plt.title(\"histogram\")\n",
    "plt.show()"
   ]
  },
  {
   "cell_type": "markdown",
   "source": [
    "## 2. Passengers that fly frequently but don't get bonuses"
   ],
   "metadata": {
    "collapsed": false
   }
  },
  {
   "cell_type": "code",
   "execution_count": 579,
   "outputs": [],
   "source": [
    "df_suspicious_by_bonus.head(suspicious_flight_threshold_2)\n",
    "df_suspicious_by_bonus['PassengerName'] = df_suspicious_by_bonus['PassengerFirstName'] + ' ' + df_suspicious_by_bonus[\n",
    "    'PassengerLastName']\n",
    "for index, row in df_suspicious_by_bonus.iterrows():\n",
    "    suspicious_passengers[row['PassengerName']] = suspicious_passengers.get(row['PassengerName'], 0) + hypotheses_weights[1]"
   ],
   "metadata": {
    "collapsed": false,
    "pycharm": {
     "name": "#%%\n"
    }
   }
  },
  {
   "cell_type": "markdown",
   "source": [
    "## 3. Passengers that fly frequently but are not registered on fly forums"
   ],
   "metadata": {
    "collapsed": false
   }
  },
  {
   "cell_type": "code",
   "execution_count": 580,
   "id": "d6b5c926",
   "metadata": {},
   "outputs": [],
   "source": [
    "df_forum['PassengerName'] = df_forum['PassengerFirstName'] + ' ' + df_forum['PassengerLastName']\n",
    "df_points['PassengerName'] = df_points['First name'] + ' ' + df_points['Last name']"
   ]
  },
  {
   "cell_type": "code",
   "execution_count": 581,
   "id": "e479d5e2",
   "metadata": {},
   "outputs": [
    {
     "data": {
      "text/plain": "54"
     },
     "execution_count": 581,
     "metadata": {},
     "output_type": "execute_result"
    }
   ],
   "source": [
    "strange = 0\n",
    "forum_names = df_forum['PassengerName'].unique()\n",
    "for name in df_joined['PassengerName'].unique():\n",
    "    if flight_counts[name] > suspicious_flight_threshold_2 and name not in forum_names:\n",
    "        strange += 1\n",
    "strange"
   ]
  },
  {
   "cell_type": "code",
   "execution_count": 582,
   "id": "164d474c",
   "metadata": {},
   "outputs": [
    {
     "data": {
      "text/plain": "32"
     },
     "execution_count": 582,
     "metadata": {},
     "output_type": "execute_result"
    }
   ],
   "source": [
    "not_strange = 0\n",
    "forum_names = df_forum['PassengerName'].unique()\n",
    "for name in df_joined['PassengerName'].unique():\n",
    "    if flight_counts[name] > suspicious_flight_threshold_2 and name in forum_names:\n",
    "        not_strange += 1\n",
    "not_strange"
   ]
  },
  {
   "cell_type": "code",
   "execution_count": 583,
   "id": "0cf76ca5",
   "metadata": {},
   "outputs": [
    {
     "data": {
      "text/plain": "9"
     },
     "execution_count": 583,
     "metadata": {},
     "output_type": "execute_result"
    }
   ],
   "source": [
    "strange = 0\n",
    "points_names = df_points['PassengerName'].unique()\n",
    "for name in df_joined['PassengerName'].unique():\n",
    "    if flight_counts[name] > suspicious_flight_threshold_2 and name not in points_names:\n",
    "        strange += 1\n",
    "        suspicious_passengers[name] = suspicious_passengers.get(name, 0) + hypotheses_weights[2]\n",
    "strange"
   ]
  },
  {
   "cell_type": "code",
   "execution_count": 584,
   "id": "4c2ce13a",
   "metadata": {},
   "outputs": [
    {
     "data": {
      "text/plain": "77"
     },
     "execution_count": 584,
     "metadata": {},
     "output_type": "execute_result"
    }
   ],
   "source": [
    "not_strange = 0\n",
    "points_names = df_points['PassengerName'].unique()\n",
    "for name in df_joined['PassengerName'].unique():\n",
    "    if flight_counts[name] > suspicious_flight_threshold_2 and name in points_names:\n",
    "        not_strange += 1\n",
    "not_strange\n"
   ]
  },
  {
   "cell_type": "markdown",
   "source": [
    "## 4. CodeShare flights ration to usual flights by passenger"
   ],
   "metadata": {
    "collapsed": false
   }
  },
  {
   "cell_type": "code",
   "execution_count": 585,
   "id": "82cafdc8",
   "metadata": {},
   "outputs": [
    {
     "data": {
      "text/plain": "        ArrivalCity BaggageState BookingCode  CodeShare DepartureDate  \\\n6712         Yuzhno      Delayed      AGCVSJ       True    2017-01-01   \n6713         Yuzhno   Registered      DOHJZR       True    2017-01-01   \n6714         Yuzhno      Delayed      YEZBIG       True    2017-01-01   \n6715         Yuzhno      Transit      DMMOKB       True    2017-01-01   \n6716         Yuzhno      Transit      MQOQVP       True    2017-01-01   \n...             ...          ...         ...        ...           ...   \n239577          NaN          NaN      KJWYKV       True    2017-12-31   \n239694          NaN          NaN      FMODNG       True    2018-01-01   \n239695      Nogliki   Registered         NaN       True    2018-01-01   \n239696          NaN          NaN      ZAYCLP       True    2018-01-01   \n239697  Vladivostok         None      ERICQE       True    2018-01-01   \n\n       DepartureTime FlightNumber PassengerBirthDate PassengerDocument  \\\n6712           07:05       SU4130         1992-01-27       0538 681395   \n6713           07:05       SU4130         1974-03-06       9977 548182   \n6714           07:05       SU4130         1984-02-25       5289 416743   \n6715           07:05       SU4130         1995-01-09       7169 765178   \n6716           07:05       SU4130         1970-02-12       0281 031807   \n...              ...          ...                ...               ...   \n239577         12:10       SU4606                NaT       9544 983593   \n239694         09:00       SU4599         1978-10-08       7852 822707   \n239695         09:00       SU4599         1978-10-08       7852 822707   \n239696         09:00       SU4599         1974-10-21       6024 460423   \n239697         13:10       SU4602         1983-04-22       0185 106233   \n\n       PassengerFirstName  ...    Fare  Meal PassengerAdditionalInfo  \\\n6712              NATALIA  ...  YFLXVG   NaN     Assistance Required   \n6713                ARINA  ...  YRSTJJ   NaN      Travel with infant   \n6714               LIUBOV  ...  YRSTZA  HNML                       #   \n6715               OLESIA  ...  YRSTSI   NaN                       F   \n6716                ARINA  ...  YFLXTV   NaN                       F   \n...                   ...  ...     ...   ...                     ...   \n239577            KSENIIA  ...  YGRPMJ  STML                       F   \n239694              AMINA  ...  YGRPWF  VGML                     NaN   \n239695              AMINA  ...     NaN   NaN                     NaN   \n239696          MARGARITA  ...  YGRPDI   NaN                     NaN   \n239697               VERA  ...  YRSTPW   NaN                     NaN   \n\n        PassengerClass      ArrivalCountry DepartureCity    DepartureCountry  \\\n6712                 Y                 NaN           NaN                 NaN   \n6713                 Y  Russian Federation   Vladivostok  Russian Federation   \n6714                 Y                 NaN           NaN                 NaN   \n6715                 Y                 NaN           NaN                 NaN   \n6716                 Y                 NaN           NaN                 NaN   \n...                ...                 ...           ...                 ...   \n239577               Y                 NaN           NaN                 NaN   \n239694               Y                 NaN           NaN                 NaN   \n239695             NaN  Russian Federation    Khabarovsk  Russian Federation   \n239696               Y                 NaN           NaN                 NaN   \n239697               Y                 NaN           NaN                 NaN   \n\n         PassengerNickName FlightDirection       PassengerName  \n6712                   NaN         UUS VVO  NATALIA BABUSHKINA  \n6713    FrequentFlyer40299         UUS VVO     ARINA BOCHAROVA  \n6714                   NaN         UUS VVO    LIUBOV BOLDYREVA  \n6715                   NaN         UUS VVO       OLESIA FOMINA  \n6716                   NaN         UUS VVO      ARINA RUSAKOVA  \n...                    ...             ...                 ...  \n239577                 NaN         KHV OHH   KSENIIA PLATONOVA  \n239694                 NaN         NGK KHV      AMINA ZAHAROVA  \n239695  FrequentFlyer65362         NGK KHV     AMINA ZAKHAROVA  \n239696                 NaN         NGK KHV    MARGARITA ZOTOVA  \n239697                 NaN         VVO KXK      VERA KOLPAKOVA  \n\n[13593 rows x 30 columns]",
      "text/html": "<div>\n<style scoped>\n    .dataframe tbody tr th:only-of-type {\n        vertical-align: middle;\n    }\n\n    .dataframe tbody tr th {\n        vertical-align: top;\n    }\n\n    .dataframe thead th {\n        text-align: right;\n    }\n</style>\n<table border=\"1\" class=\"dataframe\">\n  <thead>\n    <tr style=\"text-align: right;\">\n      <th></th>\n      <th>ArrivalCity</th>\n      <th>BaggageState</th>\n      <th>BookingCode</th>\n      <th>CodeShare</th>\n      <th>DepartureDate</th>\n      <th>DepartureTime</th>\n      <th>FlightNumber</th>\n      <th>PassengerBirthDate</th>\n      <th>PassengerDocument</th>\n      <th>PassengerFirstName</th>\n      <th>...</th>\n      <th>Fare</th>\n      <th>Meal</th>\n      <th>PassengerAdditionalInfo</th>\n      <th>PassengerClass</th>\n      <th>ArrivalCountry</th>\n      <th>DepartureCity</th>\n      <th>DepartureCountry</th>\n      <th>PassengerNickName</th>\n      <th>FlightDirection</th>\n      <th>PassengerName</th>\n    </tr>\n  </thead>\n  <tbody>\n    <tr>\n      <th>6712</th>\n      <td>Yuzhno</td>\n      <td>Delayed</td>\n      <td>AGCVSJ</td>\n      <td>True</td>\n      <td>2017-01-01</td>\n      <td>07:05</td>\n      <td>SU4130</td>\n      <td>1992-01-27</td>\n      <td>0538 681395</td>\n      <td>NATALIA</td>\n      <td>...</td>\n      <td>YFLXVG</td>\n      <td>NaN</td>\n      <td>Assistance Required</td>\n      <td>Y</td>\n      <td>NaN</td>\n      <td>NaN</td>\n      <td>NaN</td>\n      <td>NaN</td>\n      <td>UUS VVO</td>\n      <td>NATALIA BABUSHKINA</td>\n    </tr>\n    <tr>\n      <th>6713</th>\n      <td>Yuzhno</td>\n      <td>Registered</td>\n      <td>DOHJZR</td>\n      <td>True</td>\n      <td>2017-01-01</td>\n      <td>07:05</td>\n      <td>SU4130</td>\n      <td>1974-03-06</td>\n      <td>9977 548182</td>\n      <td>ARINA</td>\n      <td>...</td>\n      <td>YRSTJJ</td>\n      <td>NaN</td>\n      <td>Travel with infant</td>\n      <td>Y</td>\n      <td>Russian Federation</td>\n      <td>Vladivostok</td>\n      <td>Russian Federation</td>\n      <td>FrequentFlyer40299</td>\n      <td>UUS VVO</td>\n      <td>ARINA BOCHAROVA</td>\n    </tr>\n    <tr>\n      <th>6714</th>\n      <td>Yuzhno</td>\n      <td>Delayed</td>\n      <td>YEZBIG</td>\n      <td>True</td>\n      <td>2017-01-01</td>\n      <td>07:05</td>\n      <td>SU4130</td>\n      <td>1984-02-25</td>\n      <td>5289 416743</td>\n      <td>LIUBOV</td>\n      <td>...</td>\n      <td>YRSTZA</td>\n      <td>HNML</td>\n      <td>#</td>\n      <td>Y</td>\n      <td>NaN</td>\n      <td>NaN</td>\n      <td>NaN</td>\n      <td>NaN</td>\n      <td>UUS VVO</td>\n      <td>LIUBOV BOLDYREVA</td>\n    </tr>\n    <tr>\n      <th>6715</th>\n      <td>Yuzhno</td>\n      <td>Transit</td>\n      <td>DMMOKB</td>\n      <td>True</td>\n      <td>2017-01-01</td>\n      <td>07:05</td>\n      <td>SU4130</td>\n      <td>1995-01-09</td>\n      <td>7169 765178</td>\n      <td>OLESIA</td>\n      <td>...</td>\n      <td>YRSTSI</td>\n      <td>NaN</td>\n      <td>F</td>\n      <td>Y</td>\n      <td>NaN</td>\n      <td>NaN</td>\n      <td>NaN</td>\n      <td>NaN</td>\n      <td>UUS VVO</td>\n      <td>OLESIA FOMINA</td>\n    </tr>\n    <tr>\n      <th>6716</th>\n      <td>Yuzhno</td>\n      <td>Transit</td>\n      <td>MQOQVP</td>\n      <td>True</td>\n      <td>2017-01-01</td>\n      <td>07:05</td>\n      <td>SU4130</td>\n      <td>1970-02-12</td>\n      <td>0281 031807</td>\n      <td>ARINA</td>\n      <td>...</td>\n      <td>YFLXTV</td>\n      <td>NaN</td>\n      <td>F</td>\n      <td>Y</td>\n      <td>NaN</td>\n      <td>NaN</td>\n      <td>NaN</td>\n      <td>NaN</td>\n      <td>UUS VVO</td>\n      <td>ARINA RUSAKOVA</td>\n    </tr>\n    <tr>\n      <th>...</th>\n      <td>...</td>\n      <td>...</td>\n      <td>...</td>\n      <td>...</td>\n      <td>...</td>\n      <td>...</td>\n      <td>...</td>\n      <td>...</td>\n      <td>...</td>\n      <td>...</td>\n      <td>...</td>\n      <td>...</td>\n      <td>...</td>\n      <td>...</td>\n      <td>...</td>\n      <td>...</td>\n      <td>...</td>\n      <td>...</td>\n      <td>...</td>\n      <td>...</td>\n      <td>...</td>\n    </tr>\n    <tr>\n      <th>239577</th>\n      <td>NaN</td>\n      <td>NaN</td>\n      <td>KJWYKV</td>\n      <td>True</td>\n      <td>2017-12-31</td>\n      <td>12:10</td>\n      <td>SU4606</td>\n      <td>NaT</td>\n      <td>9544 983593</td>\n      <td>KSENIIA</td>\n      <td>...</td>\n      <td>YGRPMJ</td>\n      <td>STML</td>\n      <td>F</td>\n      <td>Y</td>\n      <td>NaN</td>\n      <td>NaN</td>\n      <td>NaN</td>\n      <td>NaN</td>\n      <td>KHV OHH</td>\n      <td>KSENIIA PLATONOVA</td>\n    </tr>\n    <tr>\n      <th>239694</th>\n      <td>NaN</td>\n      <td>NaN</td>\n      <td>FMODNG</td>\n      <td>True</td>\n      <td>2018-01-01</td>\n      <td>09:00</td>\n      <td>SU4599</td>\n      <td>1978-10-08</td>\n      <td>7852 822707</td>\n      <td>AMINA</td>\n      <td>...</td>\n      <td>YGRPWF</td>\n      <td>VGML</td>\n      <td>NaN</td>\n      <td>Y</td>\n      <td>NaN</td>\n      <td>NaN</td>\n      <td>NaN</td>\n      <td>NaN</td>\n      <td>NGK KHV</td>\n      <td>AMINA ZAHAROVA</td>\n    </tr>\n    <tr>\n      <th>239695</th>\n      <td>Nogliki</td>\n      <td>Registered</td>\n      <td>NaN</td>\n      <td>True</td>\n      <td>2018-01-01</td>\n      <td>09:00</td>\n      <td>SU4599</td>\n      <td>1978-10-08</td>\n      <td>7852 822707</td>\n      <td>AMINA</td>\n      <td>...</td>\n      <td>NaN</td>\n      <td>NaN</td>\n      <td>NaN</td>\n      <td>NaN</td>\n      <td>Russian Federation</td>\n      <td>Khabarovsk</td>\n      <td>Russian Federation</td>\n      <td>FrequentFlyer65362</td>\n      <td>NGK KHV</td>\n      <td>AMINA ZAKHAROVA</td>\n    </tr>\n    <tr>\n      <th>239696</th>\n      <td>NaN</td>\n      <td>NaN</td>\n      <td>ZAYCLP</td>\n      <td>True</td>\n      <td>2018-01-01</td>\n      <td>09:00</td>\n      <td>SU4599</td>\n      <td>1974-10-21</td>\n      <td>6024 460423</td>\n      <td>MARGARITA</td>\n      <td>...</td>\n      <td>YGRPDI</td>\n      <td>NaN</td>\n      <td>NaN</td>\n      <td>Y</td>\n      <td>NaN</td>\n      <td>NaN</td>\n      <td>NaN</td>\n      <td>NaN</td>\n      <td>NGK KHV</td>\n      <td>MARGARITA ZOTOVA</td>\n    </tr>\n    <tr>\n      <th>239697</th>\n      <td>Vladivostok</td>\n      <td>None</td>\n      <td>ERICQE</td>\n      <td>True</td>\n      <td>2018-01-01</td>\n      <td>13:10</td>\n      <td>SU4602</td>\n      <td>1983-04-22</td>\n      <td>0185 106233</td>\n      <td>VERA</td>\n      <td>...</td>\n      <td>YRSTPW</td>\n      <td>NaN</td>\n      <td>NaN</td>\n      <td>Y</td>\n      <td>NaN</td>\n      <td>NaN</td>\n      <td>NaN</td>\n      <td>NaN</td>\n      <td>VVO KXK</td>\n      <td>VERA KOLPAKOVA</td>\n    </tr>\n  </tbody>\n</table>\n<p>13593 rows × 30 columns</p>\n</div>"
     },
     "execution_count": 585,
     "metadata": {},
     "output_type": "execute_result"
    }
   ],
   "source": [
    "codeShare = df_joined.query('CodeShare == True')\n",
    "codeShare"
   ]
  },
  {
   "cell_type": "code",
   "execution_count": 586,
   "id": "a01137e4",
   "metadata": {},
   "outputs": [
    {
     "data": {
      "text/plain": "ALLA RUSAKOVA         11\nVARVARA MINAEVA       11\nALINA ZHAROVA         10\nAMELIIA KONOVALOVA    10\nELENA ROZANOVA         9\n                      ..\nRADMIR MIKHAILOV       1\nMIROSLAV MALTSEV       1\nALISA LUKIANOVA        1\nADEL LEONTEV           1\nMARGARITA ZOTOVA       1\nName: PassengerName, Length: 8370, dtype: int64"
     },
     "execution_count": 586,
     "metadata": {},
     "output_type": "execute_result"
    }
   ],
   "source": [
    "codeShareCounts = codeShare['PassengerName'].value_counts()\n",
    "codeShareCounts"
   ]
  },
  {
   "cell_type": "code",
   "execution_count": 587,
   "id": "827ce2cc",
   "metadata": {},
   "outputs": [
    {
     "data": {
      "text/plain": "STANISLAV BOBROV           35\nMIROSLAVA LAPTEVA          31\nSABINA SHMELEVA            29\nILIA RAKOV                 28\nVASILINA POTAPOVA          28\n                           ..\nVIKTOR IVANOV               1\nBORIS KOZYREV               1\nALEKSANDRA KALASHNIKOVA     1\nIAROSLAV KORCHAGIN          1\nRINAT RUMIANTSEV            1\nName: PassengerName, Length: 63076, dtype: int64"
     },
     "execution_count": 587,
     "metadata": {},
     "output_type": "execute_result"
    }
   ],
   "source": [
    "names = df_joined['PassengerName'].value_counts()\n",
    "names"
   ]
  },
  {
   "cell_type": "code",
   "execution_count": 588,
   "id": "90691526",
   "metadata": {},
   "outputs": [
    {
     "data": {
      "text/plain": "<Figure size 432x288 with 1 Axes>",
      "image/png": "[encoded data removed]"
     },
     "metadata": {
      "needs_background": "light"
     },
     "output_type": "display_data"
    }
   ],
   "source": [
    "ratioCodeShare = {}\n",
    "for name in codeShare['PassengerName'].unique():\n",
    "    if names[name] > 5:\n",
    "        ratioCodeShare[name] = codeShareCounts[name] / names[name]\n",
    "\n",
    "plt.hist(np.array(list(ratioCodeShare.values())), bins=20)\n",
    "plt.title(\"histogram\")\n",
    "plt.show()\n",
    "\n",
    "for n, r in ratioCodeShare.items():\n",
    "    if r > 0.5:\n",
    "        suspicious_passengers[n] = suspicious_passengers.get(n, 0) + hypotheses_weights[3]"
   ]
  },
  {
   "cell_type": "markdown",
   "source": [
    "## 5. Подозрительное использование тарифов\n",
    "### Тариф (Fare) и класс (Class) билета\n",
    "\n",
    "На что влияет Fare:\n",
    "1. Возможность обмена / возврата\n",
    "2. Возможность апгрейда на более дорогой билет\n",
    "3. Ограничения на время пребывания\n",
    "4. Получение бонусов (за некоторые тарифы бонусы начисляются только частично)\n",
    "\n",
    "Классы (https://your.yale.edu/work-yale/campus-services/travel/air-travel/airfare-codes)\n",
    "1. A - First Class Discounted\n",
    "2. J - Business Class Premium\n",
    "3. P - First Class Premium\n",
    "4. Y - Economy/Coach\n",
    "\n",
    "Другие символы в Fare Basis Code (https://en.wikipedia.org/wiki/Fare_basis_code#Booking_class)\n",
    "- E на второй позиции - Excursion (мин. и макс. время пребывания, актуально для туров). Не обнаружил\n",
    "- H or L на любой позиции, кроме первой - высокий или низкий сезон. Не нашел опред. паттерна\n",
    "- OW на любой позиции - только в одну сторону. Есть несколько билетов\n",
    "- RT на любой позиции - обратный проезд (или билет в 2 стороны?). Есть несколько билетов\n",
    "- NR на любой позиции - без рефанда. Есть несколько билетов\n",
    "- CH, IN на любой позиции - детские билеты. Есть несколько билетов"
   ],
   "metadata": {
    "collapsed": false
   }
  },
  {
   "cell_type": "code",
   "execution_count": 589,
   "outputs": [
    {
     "data": {
      "text/plain": "<Figure size 432x288 with 1 Axes>",
      "image/png": "[encoded data removed]"
     },
     "metadata": {
      "needs_background": "light"
     },
     "output_type": "display_data"
    }
   ],
   "source": [
    "counts = df_joined.groupby(['PassengerClass'], as_index=False).size()\n",
    "counts.plot(kind='bar', x='PassengerClass', y='size')\n",
    "\n",
    "for index, row in df_joined.iterrows():\n",
    "    if row['PassengerClass'] == 'P':\n",
    "        name = row['PassengerName']\n",
    "        suspicious_passengers[name] = suspicious_passengers.get(name, 0) + hypotheses_weights[4]"
   ],
   "metadata": {
    "collapsed": false,
    "pycharm": {
     "name": "#%%\n"
    }
   }
  },
  {
   "cell_type": "markdown",
   "source": [
    "Ожидаемо, самый популярный класс - Economy.\n",
    "Можно считать подозрительныыми пассажиров, летающих остальными классами (они могли покупать билет в последний момент)\n"
   ],
   "metadata": {
    "collapsed": false
   }
  },
  {
   "cell_type": "markdown",
   "source": [
    "Попробуем применить эвристики для поиска вышеописанных паттернов в кодах тарифов."
   ],
   "metadata": {
    "collapsed": false
   }
  },
  {
   "cell_type": "markdown",
   "source": [
    "Пассажиры, купившие билеты в 1 сторону"
   ],
   "metadata": {
    "collapsed": false
   }
  },
  {
   "cell_type": "code",
   "execution_count": 590,
   "outputs": [],
   "source": [
    "joined_data = df_joined[df_joined['Fare'].notna()]\n",
    "one_way = joined_data[joined_data['Fare'].str.contains('OW')]\n",
    "one_way.head(preview_count)\n",
    "\n",
    "for index, row in one_way.iterrows():\n",
    "    name = row['PassengerName']\n",
    "    suspicious_passengers[name] = suspicious_passengers.get(name, 0) + hypotheses_weights[5]"
   ],
   "metadata": {
    "collapsed": false,
    "pycharm": {
     "name": "#%%\n"
    }
   }
  },
  {
   "cell_type": "markdown",
   "source": [
    "Дети"
   ],
   "metadata": {
    "collapsed": false
   }
  },
  {
   "cell_type": "code",
   "execution_count": 591,
   "outputs": [],
   "source": [
    "joined_data = joined_data[joined_data['Fare'].notna()]\n",
    "children = joined_data[joined_data['Fare'].str.contains('CH') | joined_data['Fare'].str.contains('IN')]\n",
    "children.head(preview_count)\n",
    "\n",
    "children_set = set()\n",
    "for index, row in children.iterrows():\n",
    "    name = row['PassengerName']\n",
    "    children_set.add(name)"
   ],
   "metadata": {
    "collapsed": false,
    "pycharm": {
     "name": "#%%\n"
    }
   }
  },
  {
   "cell_type": "markdown",
   "source": [
    "Как видно из результата, гипотеза про детей неверная. Лучше проверять, сравнивая дату вылета и дату рождения"
   ],
   "metadata": {
    "collapsed": false
   }
  },
  {
   "cell_type": "code",
   "execution_count": 592,
   "outputs": [
    {
     "data": {
      "text/plain": "    ArrivalCity BaggageState BookingCode  CodeShare DepartureDate  \\\n0        Moscow      Transit      WMXPVY      False    2017-01-01   \n12          NaN          NaN      PYFKRO      False    2017-01-01   \n31          NaN          NaN      ZXHOWW      False    2017-01-01   \n93       Moscow          NaN      VDQXMP      False    2017-01-01   \n110      Moscow   Registered      RUOQOV      False    2017-01-01   \n122         NaN          NaN      CEVVEG      False    2017-01-01   \n190      Moscow          NaN      JLEEFN      False    2017-01-01   \n192      Moscow      Transit      VRUZFZ      False    2017-01-01   \n219      Moscow         None      ITAOYF      False    2017-01-01   \n323      Moscow         None      DSZDLF      False    2017-01-01   \n\n    DepartureTime FlightNumber PassengerBirthDate PassengerDocument  \\\n0           09:15       SU1001         1999-12-13       5140 683757   \n12          09:15       SU1001         2000-08-01       0779 484874   \n31          12:45       SU1003         1999-01-18        54 0905966   \n93          08:25       SU1052         1999-09-30        84 6942030   \n110         08:25       SU1052         2000-12-05       6870 525370   \n122         08:25       SU1052         1999-10-11       0400 066182   \n190         22:05       SU1056         1999-05-27       4360 875198   \n192         22:05       SU1056         1999-07-05       9446 089538   \n219         01:45       SU1057         1999-03-08       0778 872972   \n323         20:40       SU1107         1999-03-06       5604 264572   \n\n    PassengerFirstName  ...    Fare  Meal  \\\n0                ALISA  ...  YFLXYW  RVML   \n12             VASILII  ...  YSTNOI   NaN   \n31                ADEL  ...  AGRPUZ   NaN   \n93                EGOR  ...  YFLXTS  HNML   \n110           VASILISA  ...  YSTNNO   NaN   \n122            TIMOFEI  ...  YRSTSA   NaN   \n190         VLADISLAVA  ...  YSTNHG   NaN   \n192         KONSTANTIN  ...  YGRPLU   NaN   \n219               VERA  ...  YRSTRO   NaN   \n323              VLADA  ...  YFLXQD  FPML   \n\n                     PassengerAdditionalInfo  PassengerClass  \\\n0                                          F               Y   \n12    4                       FF#DT 29174451               Y   \n31                           FF#FB 980143300               A   \n93                                         F               Y   \n110  F                       FF#FB 169260206               Y   \n122  E                       FF#KE 245158365               Y   \n190                                        F               Y   \n192                                        F               Y   \n219                                      NaN               Y   \n323                                      NaN               Y   \n\n         ArrivalCountry DepartureCity    DepartureCountry   PassengerNickName  \\\n0                   NaN           NaN                 NaN                 NaN   \n12                  NaN           NaN                 NaN                 NaN   \n31                  NaN           NaN                 NaN                 NaN   \n93   Russian Federation   Makhachkala  Russian Federation  FrequentFlyer83182   \n110  Russian Federation   Makhachkala  Russian Federation  FrequentFlyer63367   \n122                 NaN           NaN                 NaN                 NaN   \n190  Russian Federation   Makhachkala  Russian Federation  FrequentFlyer78965   \n192                 NaN           NaN                 NaN                 NaN   \n219                 NaN           NaN                 NaN                 NaN   \n323                 NaN           NaN                 NaN                 NaN   \n\n    FlightDirection          PassengerName  \n0           SVO KGD         ALISA ABRAMOVA  \n12          SVO KGD      VASILII KONDRATEV  \n31          SVO KGD           ADEL KULAGIN  \n93          SVO MCX           EGOR ALESHIN  \n110         SVO MCX      VASILISA ROZHKOVA  \n122         SVO MCX    TIMOFEI ZVIAGINTSEV  \n190         SVO MCX  VLADISLAVA STAROSTINA  \n192         SVO MCX    KONSTANTIN VOLOSHIN  \n219         SVO MCX         VERA SELEZNEVA  \n323         SVO KRR      VLADA POZDNIAKOVA  \n\n[10 rows x 30 columns]",
      "text/html": "<div>\n<style scoped>\n    .dataframe tbody tr th:only-of-type {\n        vertical-align: middle;\n    }\n\n    .dataframe tbody tr th {\n        vertical-align: top;\n    }\n\n    .dataframe thead th {\n        text-align: right;\n    }\n</style>\n<table border=\"1\" class=\"dataframe\">\n  <thead>\n    <tr style=\"text-align: right;\">\n      <th></th>\n      <th>ArrivalCity</th>\n      <th>BaggageState</th>\n      <th>BookingCode</th>\n      <th>CodeShare</th>\n      <th>DepartureDate</th>\n      <th>DepartureTime</th>\n      <th>FlightNumber</th>\n      <th>PassengerBirthDate</th>\n      <th>PassengerDocument</th>\n      <th>PassengerFirstName</th>\n      <th>...</th>\n      <th>Fare</th>\n      <th>Meal</th>\n      <th>PassengerAdditionalInfo</th>\n      <th>PassengerClass</th>\n      <th>ArrivalCountry</th>\n      <th>DepartureCity</th>\n      <th>DepartureCountry</th>\n      <th>PassengerNickName</th>\n      <th>FlightDirection</th>\n      <th>PassengerName</th>\n    </tr>\n  </thead>\n  <tbody>\n    <tr>\n      <th>0</th>\n      <td>Moscow</td>\n      <td>Transit</td>\n      <td>WMXPVY</td>\n      <td>False</td>\n      <td>2017-01-01</td>\n      <td>09:15</td>\n      <td>SU1001</td>\n      <td>1999-12-13</td>\n      <td>5140 683757</td>\n      <td>ALISA</td>\n      <td>...</td>\n      <td>YFLXYW</td>\n      <td>RVML</td>\n      <td>F</td>\n      <td>Y</td>\n      <td>NaN</td>\n      <td>NaN</td>\n      <td>NaN</td>\n      <td>NaN</td>\n      <td>SVO KGD</td>\n      <td>ALISA ABRAMOVA</td>\n    </tr>\n    <tr>\n      <th>12</th>\n      <td>NaN</td>\n      <td>NaN</td>\n      <td>PYFKRO</td>\n      <td>False</td>\n      <td>2017-01-01</td>\n      <td>09:15</td>\n      <td>SU1001</td>\n      <td>2000-08-01</td>\n      <td>0779 484874</td>\n      <td>VASILII</td>\n      <td>...</td>\n      <td>YSTNOI</td>\n      <td>NaN</td>\n      <td>4                       FF#DT 29174451</td>\n      <td>Y</td>\n      <td>NaN</td>\n      <td>NaN</td>\n      <td>NaN</td>\n      <td>NaN</td>\n      <td>SVO KGD</td>\n      <td>VASILII KONDRATEV</td>\n    </tr>\n    <tr>\n      <th>31</th>\n      <td>NaN</td>\n      <td>NaN</td>\n      <td>ZXHOWW</td>\n      <td>False</td>\n      <td>2017-01-01</td>\n      <td>12:45</td>\n      <td>SU1003</td>\n      <td>1999-01-18</td>\n      <td>54 0905966</td>\n      <td>ADEL</td>\n      <td>...</td>\n      <td>AGRPUZ</td>\n      <td>NaN</td>\n      <td>FF#FB 980143300</td>\n      <td>A</td>\n      <td>NaN</td>\n      <td>NaN</td>\n      <td>NaN</td>\n      <td>NaN</td>\n      <td>SVO KGD</td>\n      <td>ADEL KULAGIN</td>\n    </tr>\n    <tr>\n      <th>93</th>\n      <td>Moscow</td>\n      <td>NaN</td>\n      <td>VDQXMP</td>\n      <td>False</td>\n      <td>2017-01-01</td>\n      <td>08:25</td>\n      <td>SU1052</td>\n      <td>1999-09-30</td>\n      <td>84 6942030</td>\n      <td>EGOR</td>\n      <td>...</td>\n      <td>YFLXTS</td>\n      <td>HNML</td>\n      <td>F</td>\n      <td>Y</td>\n      <td>Russian Federation</td>\n      <td>Makhachkala</td>\n      <td>Russian Federation</td>\n      <td>FrequentFlyer83182</td>\n      <td>SVO MCX</td>\n      <td>EGOR ALESHIN</td>\n    </tr>\n    <tr>\n      <th>110</th>\n      <td>Moscow</td>\n      <td>Registered</td>\n      <td>RUOQOV</td>\n      <td>False</td>\n      <td>2017-01-01</td>\n      <td>08:25</td>\n      <td>SU1052</td>\n      <td>2000-12-05</td>\n      <td>6870 525370</td>\n      <td>VASILISA</td>\n      <td>...</td>\n      <td>YSTNNO</td>\n      <td>NaN</td>\n      <td>F                       FF#FB 169260206</td>\n      <td>Y</td>\n      <td>Russian Federation</td>\n      <td>Makhachkala</td>\n      <td>Russian Federation</td>\n      <td>FrequentFlyer63367</td>\n      <td>SVO MCX</td>\n      <td>VASILISA ROZHKOVA</td>\n    </tr>\n    <tr>\n      <th>122</th>\n      <td>NaN</td>\n      <td>NaN</td>\n      <td>CEVVEG</td>\n      <td>False</td>\n      <td>2017-01-01</td>\n      <td>08:25</td>\n      <td>SU1052</td>\n      <td>1999-10-11</td>\n      <td>0400 066182</td>\n      <td>TIMOFEI</td>\n      <td>...</td>\n      <td>YRSTSA</td>\n      <td>NaN</td>\n      <td>E                       FF#KE 245158365</td>\n      <td>Y</td>\n      <td>NaN</td>\n      <td>NaN</td>\n      <td>NaN</td>\n      <td>NaN</td>\n      <td>SVO MCX</td>\n      <td>TIMOFEI ZVIAGINTSEV</td>\n    </tr>\n    <tr>\n      <th>190</th>\n      <td>Moscow</td>\n      <td>NaN</td>\n      <td>JLEEFN</td>\n      <td>False</td>\n      <td>2017-01-01</td>\n      <td>22:05</td>\n      <td>SU1056</td>\n      <td>1999-05-27</td>\n      <td>4360 875198</td>\n      <td>VLADISLAVA</td>\n      <td>...</td>\n      <td>YSTNHG</td>\n      <td>NaN</td>\n      <td>F</td>\n      <td>Y</td>\n      <td>Russian Federation</td>\n      <td>Makhachkala</td>\n      <td>Russian Federation</td>\n      <td>FrequentFlyer78965</td>\n      <td>SVO MCX</td>\n      <td>VLADISLAVA STAROSTINA</td>\n    </tr>\n    <tr>\n      <th>192</th>\n      <td>Moscow</td>\n      <td>Transit</td>\n      <td>VRUZFZ</td>\n      <td>False</td>\n      <td>2017-01-01</td>\n      <td>22:05</td>\n      <td>SU1056</td>\n      <td>1999-07-05</td>\n      <td>9446 089538</td>\n      <td>KONSTANTIN</td>\n      <td>...</td>\n      <td>YGRPLU</td>\n      <td>NaN</td>\n      <td>F</td>\n      <td>Y</td>\n      <td>NaN</td>\n      <td>NaN</td>\n      <td>NaN</td>\n      <td>NaN</td>\n      <td>SVO MCX</td>\n      <td>KONSTANTIN VOLOSHIN</td>\n    </tr>\n    <tr>\n      <th>219</th>\n      <td>Moscow</td>\n      <td>None</td>\n      <td>ITAOYF</td>\n      <td>False</td>\n      <td>2017-01-01</td>\n      <td>01:45</td>\n      <td>SU1057</td>\n      <td>1999-03-08</td>\n      <td>0778 872972</td>\n      <td>VERA</td>\n      <td>...</td>\n      <td>YRSTRO</td>\n      <td>NaN</td>\n      <td>NaN</td>\n      <td>Y</td>\n      <td>NaN</td>\n      <td>NaN</td>\n      <td>NaN</td>\n      <td>NaN</td>\n      <td>SVO MCX</td>\n      <td>VERA SELEZNEVA</td>\n    </tr>\n    <tr>\n      <th>323</th>\n      <td>Moscow</td>\n      <td>None</td>\n      <td>DSZDLF</td>\n      <td>False</td>\n      <td>2017-01-01</td>\n      <td>20:40</td>\n      <td>SU1107</td>\n      <td>1999-03-06</td>\n      <td>5604 264572</td>\n      <td>VLADA</td>\n      <td>...</td>\n      <td>YFLXQD</td>\n      <td>FPML</td>\n      <td>NaN</td>\n      <td>Y</td>\n      <td>NaN</td>\n      <td>NaN</td>\n      <td>NaN</td>\n      <td>NaN</td>\n      <td>SVO KRR</td>\n      <td>VLADA POZDNIAKOVA</td>\n    </tr>\n  </tbody>\n</table>\n<p>10 rows × 30 columns</p>\n</div>"
     },
     "execution_count": 592,
     "metadata": {},
     "output_type": "execute_result"
    }
   ],
   "source": [
    "joined_data = joined_data[joined_data['PassengerBirthDate'].notna()]\n",
    "children = joined_data[(joined_data['DepartureDate'] - joined_data['PassengerBirthDate']) / np.timedelta64(1, 'Y') < 18]\n",
    "children.head(preview_count)\n"
   ],
   "metadata": {
    "collapsed": false,
    "pycharm": {
     "name": "#%%\n"
    }
   }
  },
  {
   "cell_type": "markdown",
   "id": "0f835281",
   "metadata": {
    "pycharm": {
     "name": "#%% md\n"
    }
   },
   "source": [
    "## Additional hypotheses"
   ]
  },
  {
   "cell_type": "code",
   "execution_count": 593,
   "outputs": [
    {
     "data": {
      "text/plain": "<Figure size 432x288 with 1 Axes>",
      "image/png": "[encoded data removed]"
     },
     "metadata": {
      "needs_background": "light"
     },
     "output_type": "display_data"
    },
    {
     "data": {
      "text/plain": "<Figure size 432x288 with 1 Axes>",
      "image/png": "[encoded data removed]"
     },
     "metadata": {
      "needs_background": "light"
     },
     "output_type": "display_data"
    }
   ],
   "source": [
    "counts = df_joined.groupby(['PassengerFirstName'] + ['PassengerLastName'])[['PassengerDocument']].count()\n",
    "ax = counts.plot.hist(bins=35, alpha=0.5)\n",
    "\n",
    "counts = df_points.groupby(['First name'] + ['Last name'])[['uid']].count()\n",
    "ax = counts.plot.hist(bins=32, alpha=0.5)"
   ],
   "metadata": {
    "collapsed": false,
    "pycharm": {
     "name": "#%%\n"
    }
   }
  },
  {
   "cell_type": "code",
   "execution_count": 594,
   "outputs": [
    {
     "data": {
      "text/plain": "Go2See         12157\nOZON.travel    12153\nTravelgenio    12123\nOneTwoTrip     12096\nKupiBilet      12011\nAeroflot       12001\ntrip.ru        11984\nCity.Travel    11885\nKiwi.com       11871\nAerobilet      11867\nTickets.ru     11860\neDreams        11811\nName: AgentInfo, dtype: int64"
     },
     "execution_count": 594,
     "metadata": {},
     "output_type": "execute_result"
    }
   ],
   "source": [
    "counts = df_joined['AgentInfo'].value_counts()\n",
    "counts"
   ],
   "metadata": {
    "collapsed": false,
    "pycharm": {
     "name": "#%%\n"
    }
   }
  },
  {
   "cell_type": "markdown",
   "source": [
    "## Show all suspicious passengers with rating"
   ],
   "metadata": {
    "collapsed": false
   }
  },
  {
   "cell_type": "code",
   "execution_count": 595,
   "outputs": [],
   "source": [
    "import operator\n",
    "\n",
    "for name in children_set:\n",
    "    suspicious_passengers.pop(name, None)\n",
    "for name in children_set:\n",
    "    suspicious_passengers.pop(name, None)\n",
    "suspicious_passengers = {name: score for name, score in suspicious_passengers.items() if\n",
    "                         score >= suspicious_score_threshold}\n",
    "\n",
    "sorted_suspicious_passengers = sorted(suspicious_passengers.items(), key=operator.itemgetter(1), reverse=True)\n",
    "\n",
    "df_suspicious = pd.DataFrame(sorted_suspicious_passengers, columns=['Name', 'Score'])\n",
    "df_suspicious.to_csv('final/suspicious_final.csv', index=False)"
   ],
   "metadata": {
    "collapsed": false,
    "pycharm": {
     "name": "#%%\n"
    }
   }
  }
 ],
 "metadata": {
  "kernelspec": {
   "display_name": "Python 3 (ipykernel)",
   "language": "python",
   "name": "python3"
  },
  "language_info": {
   "codemirror_mode": {
    "name": "ipython",
    "version": 3
   },
   "file_extension": ".py",
   "mimetype": "text/x-python",
   "name": "python",
   "nbconvert_exporter": "python",
   "pygments_lexer": "ipython3",
   "version": "3.8.8"
  }
 },
 "nbformat": 4,
 "nbformat_minor": 5
}